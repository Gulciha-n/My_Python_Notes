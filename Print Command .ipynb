{
 "cells": [
  {
   "cell_type": "markdown",
   "id": "6ab57970",
   "metadata": {},
   "source": [
    "# Print command "
   ]
  },
  {
   "cell_type": "code",
   "execution_count": 2,
   "id": "1f947387",
   "metadata": {},
   "outputs": [
    {
     "name": "stdout",
     "output_type": "stream",
     "text": [
      "welcome to the my notes\n"
     ]
    }
   ],
   "source": [
    "print (\"welcome to the my notes\")"
   ]
  },
  {
   "cell_type": "code",
   "execution_count": 4,
   "id": "902acd4c",
   "metadata": {},
   "outputs": [],
   "source": [
    "## \\n = mew line "
   ]
  },
  {
   "cell_type": "code",
   "execution_count": 5,
   "id": "b4f6607e",
   "metadata": {},
   "outputs": [
    {
     "name": "stdout",
     "output_type": "stream",
     "text": [
      "Hello everyone \n",
      "Welcome to the my notes\n"
     ]
    }
   ],
   "source": [
    "print (\"Hello everyone \\nWelcome to the my notes\")"
   ]
  },
  {
   "cell_type": "code",
   "execution_count": 6,
   "id": "f6471faa",
   "metadata": {},
   "outputs": [],
   "source": [
    "## \\t = tab "
   ]
  },
  {
   "cell_type": "code",
   "execution_count": 9,
   "id": "4bd576cd",
   "metadata": {},
   "outputs": [
    {
     "name": "stdout",
     "output_type": "stream",
     "text": [
      "Hello everyone  \tWelcome to the my notes\n"
     ]
    }
   ],
   "source": [
    "print (\"Hello everyone  \\tWelcome to the my notes\")"
   ]
  },
  {
   "cell_type": "markdown",
   "id": "81c5e6c3",
   "metadata": {},
   "source": [
    "# .format ()   = fills in the parentheses"
   ]
  },
  {
   "cell_type": "code",
   "execution_count": 10,
   "id": "fc5e0633",
   "metadata": {},
   "outputs": [
    {
     "name": "stdout",
     "output_type": "stream",
     "text": [
      "My name is gülcihan\n"
     ]
    }
   ],
   "source": [
    "print (\"My name is {}\".format(\"gülcihan\"))"
   ]
  },
  {
   "cell_type": "code",
   "execution_count": 11,
   "id": "11765902",
   "metadata": {},
   "outputs": [
    {
     "name": "stdout",
     "output_type": "stream",
     "text": [
      "my name is gülcihan , surname is gülmez\n"
     ]
    }
   ],
   "source": [
    "print (\"my name is {} , surname is {}\".format (\"gülcihan\" , \"gülmez\"))"
   ]
  },
  {
   "cell_type": "code",
   "execution_count": 12,
   "id": "31db197b",
   "metadata": {},
   "outputs": [],
   "source": [
    "## we can write indexes in the parentheses "
   ]
  },
  {
   "cell_type": "code",
   "execution_count": 13,
   "id": "881a7b52",
   "metadata": {},
   "outputs": [
    {
     "name": "stdout",
     "output_type": "stream",
     "text": [
      "your name is batu, your age is 20\n"
     ]
    }
   ],
   "source": [
    "print (\"your name is {0}, your age is {1}\".format (\"batu\",\"20\") )"
   ]
  },
  {
   "cell_type": "code",
   "execution_count": 14,
   "id": "7ee03bdb",
   "metadata": {},
   "outputs": [
    {
     "name": "stdout",
     "output_type": "stream",
     "text": [
      "your name is 20, your age is batu\n"
     ]
    }
   ],
   "source": [
    "print (\"your name is {1}, your age is {0}\".format (\"batu\",\"20\") )"
   ]
  },
  {
   "cell_type": "markdown",
   "id": "951f8237",
   "metadata": {},
   "source": [
    "# variable assignment "
   ]
  },
  {
   "cell_type": "code",
   "execution_count": 18,
   "id": "f5a68c42",
   "metadata": {},
   "outputs": [
    {
     "name": "stdout",
     "output_type": "stream",
     "text": [
      "food : karnıyarık , sweet : künefe\n"
     ]
    }
   ],
   "source": [
    "print (\"food : {a} , sweet : {b}\" .format (a=\"karnıyarık\" , b=\"künefe\"))"
   ]
  },
  {
   "cell_type": "code",
   "execution_count": 19,
   "id": "9b383f55",
   "metadata": {},
   "outputs": [
    {
     "name": "stdout",
     "output_type": "stream",
     "text": [
      "The first customer is : pelin , the second customer is : derya\n"
     ]
    }
   ],
   "source": [
    "print (\"The first customer is : {x} , the second customer is : {y}\" .format (x = \"pelin\" , y = \"derya\"))"
   ]
  }
 ],
 "metadata": {
  "kernelspec": {
   "display_name": "Python 3 (ipykernel)",
   "language": "python",
   "name": "python3"
  },
  "language_info": {
   "codemirror_mode": {
    "name": "ipython",
    "version": 3
   },
   "file_extension": ".py",
   "mimetype": "text/x-python",
   "name": "python",
   "nbconvert_exporter": "python",
   "pygments_lexer": "ipython3",
   "version": "3.9.13"
  }
 },
 "nbformat": 4,
 "nbformat_minor": 5
}
