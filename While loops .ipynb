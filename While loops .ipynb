{
 "cells": [
  {
   "cell_type": "markdown",
   "id": "8a98818f",
   "metadata": {},
   "source": [
    "# while loops "
   ]
  },
  {
   "cell_type": "code",
   "execution_count": 1,
   "id": "3fa718da",
   "metadata": {},
   "outputs": [
    {
     "name": "stdout",
     "output_type": "stream",
     "text": [
      "0 is less than 10\n",
      "1 is less than 10\n",
      "2 is less than 10\n",
      "3 is less than 10\n",
      "4 is less than 10\n",
      "5 is less than 10\n",
      "6 is less than 10\n",
      "7 is less than 10\n",
      "8 is less than 10\n",
      "9 is less than 10\n"
     ]
    }
   ],
   "source": [
    "x = 0\n",
    "while x < 10 :\n",
    "    print (\"{} is less than 10\".format(x))\n",
    "    x = x + 1"
   ]
  },
  {
   "cell_type": "code",
   "execution_count": 5,
   "id": "53f6f844",
   "metadata": {},
   "outputs": [
    {
     "name": "stdout",
     "output_type": "stream",
     "text": [
      "0 is less than 10\n",
      "1 is less than 10\n",
      "2 is less than 10\n",
      "3 is less than 10\n",
      "4 is less than 10\n",
      "5 is less than 10\n",
      "6 is less than 10\n",
      "7 is less than 10\n",
      "8 is less than 10\n",
      "9 is less than 10\n",
      "10 is not less than 10\n"
     ]
    }
   ],
   "source": [
    "x = 0\n",
    "while x < 10 :\n",
    "    print (\"{} is less than 10\".format(x))\n",
    "    x = x + 1 \n",
    "else :\n",
    "    print (\"{} is not less than 10\".format(x))"
   ]
  },
  {
   "cell_type": "code",
   "execution_count": 1,
   "id": "86622582",
   "metadata": {},
   "outputs": [
    {
     "name": "stdout",
     "output_type": "stream",
     "text": [
      "720\n"
     ]
    }
   ],
   "source": [
    "x = 6 \n",
    "y = 1\n",
    "while x > 0 :\n",
    "    y = y * x\n",
    "    x = x - 1\n",
    "print (y)"
   ]
  },
  {
   "cell_type": "code",
   "execution_count": 6,
   "id": "392b7085",
   "metadata": {},
   "outputs": [
    {
     "name": "stdout",
     "output_type": "stream",
     "text": [
      "6\n",
      "30\n",
      "120\n",
      "360\n",
      "720\n",
      "720\n"
     ]
    }
   ],
   "source": [
    "x = 6 \n",
    "y = 1\n",
    "while x > 0 :\n",
    "    y = y * x\n",
    "    x = x - 1\n",
    "    print (y)"
   ]
  },
  {
   "cell_type": "code",
   "execution_count": 9,
   "id": "68f1eec2",
   "metadata": {},
   "outputs": [
    {
     "name": "stdout",
     "output_type": "stream",
     "text": [
      "1\n",
      "8\n",
      "10\n",
      "26\n",
      "4\n"
     ]
    }
   ],
   "source": [
    "user_number = [1,8,10,26,4]\n",
    "i = 0 \n",
    "while i < len(user_number) : \n",
    "    print (user_number[i])\n",
    "    i = i + 1 "
   ]
  },
  {
   "cell_type": "code",
   "execution_count": 22,
   "id": "697e2672",
   "metadata": {},
   "outputs": [
    {
     "name": "stdout",
     "output_type": "stream",
     "text": [
      "enter a number : 9\n",
      "sum of numbers from 1 to 9 = 45\n"
     ]
    }
   ],
   "source": [
    "n = int (input (\"enter a number : \"))\n",
    "i = 0\n",
    "sum_numbers = 0\n",
    "while i <= n :\n",
    "    sum_numbers = sum_numbers + i\n",
    "    i = i + 1 \n",
    "print (\"sum of numbers from 1 to {} = {}\".format(n , sum_numbers))"
   ]
  }
 ],
 "metadata": {
  "kernelspec": {
   "display_name": "Python 3 (ipykernel)",
   "language": "python",
   "name": "python3"
  },
  "language_info": {
   "codemirror_mode": {
    "name": "ipython",
    "version": 3
   },
   "file_extension": ".py",
   "mimetype": "text/x-python",
   "name": "python",
   "nbconvert_exporter": "python",
   "pygments_lexer": "ipython3",
   "version": "3.9.13"
  }
 },
 "nbformat": 4,
 "nbformat_minor": 5
}
