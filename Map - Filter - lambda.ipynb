{
 "cells": [
  {
   "cell_type": "markdown",
   "id": "e0f428e1",
   "metadata": {},
   "source": [
    "## map = map(function, iterable1, iterable2, ...)"
   ]
  },
  {
   "cell_type": "raw",
   "id": "2a081925",
   "metadata": {},
   "source": [
    "function: Her bir iterable elemanı üzerinde uygulanacak fonksiyondur.\n",
    "iterable1, iterable2, ... : Fonksiyonun çalıştırılacağı iterable nesnelerdir."
   ]
  },
  {
   "cell_type": "code",
   "execution_count": 6,
   "id": "babc5552",
   "metadata": {},
   "outputs": [],
   "source": [
    "def take_square (a):\n",
    "    b = a**2\n",
    "    return b"
   ]
  },
  {
   "cell_type": "code",
   "execution_count": 7,
   "id": "64939f54",
   "metadata": {},
   "outputs": [
    {
     "data": {
      "text/plain": [
       "16"
      ]
     },
     "execution_count": 7,
     "metadata": {},
     "output_type": "execute_result"
    }
   ],
   "source": [
    "take_square(4)"
   ]
  },
  {
   "cell_type": "code",
   "execution_count": 11,
   "id": "87c7835e",
   "metadata": {},
   "outputs": [
    {
     "name": "stdout",
     "output_type": "stream",
     "text": [
      "[1, 4, 9, 16, 25, 36]\n"
     ]
    }
   ],
   "source": [
    "numbers =  [1,2,3,4,5,6]\n",
    "map (take_square,numbers)\n",
    "\n",
    "print(list(map (take_square,numbers)))"
   ]
  },
  {
   "cell_type": "code",
   "execution_count": 12,
   "id": "6db9eade",
   "metadata": {},
   "outputs": [
    {
     "name": "stdout",
     "output_type": "stream",
     "text": [
      "[25, 36, 49, 64, 81]\n"
     ]
    }
   ],
   "source": [
    "num = [5,6,7,8,9]\n",
    "t = map (take_square,num)\n",
    "print (list(t))"
   ]
  },
  {
   "cell_type": "markdown",
   "id": "e2b18fdc",
   "metadata": {},
   "source": [
    "# Filter = filter(function, iterable)"
   ]
  },
  {
   "cell_type": "raw",
   "id": "36b5204c",
   "metadata": {},
   "source": [
    "function: Iterable nesnelerin her bir elemanı üzerinde uygulanan bir fonksiyondur.\n",
    "iterable: Filtrasyon yapılacak olan iterable nesnedir."
   ]
  },
  {
   "cell_type": "raw",
   "id": "7d4848ab",
   "metadata": {},
   "source": [
    "filter() fonksiyonu, her bir iterable elemanı için function fonksiyonunu çağırır ve \n",
    "function fonksiyonunun True döndürdüğü elemanları,bir filtrelenecekler listesi olarak döndürür.\n",
    "Yazdırmadan önce liste türüne dönüştürmeliyiz."
   ]
  },
  {
   "cell_type": "code",
   "execution_count": 21,
   "id": "2fd530ed",
   "metadata": {},
   "outputs": [],
   "source": [
    "def num_even (x):\n",
    "    y = (x % 2==0)\n",
    "    return y"
   ]
  },
  {
   "cell_type": "code",
   "execution_count": 23,
   "id": "834d3db7",
   "metadata": {},
   "outputs": [
    {
     "name": "stdout",
     "output_type": "stream",
     "text": [
      "[2, 4, 6, 8, 10]\n"
     ]
    }
   ],
   "source": [
    "list1 = [1,2,3,4,5,6,7,8,9,10]\n",
    "evens = filter (num_even,list1)\n",
    "print (list(evens))"
   ]
  },
  {
   "cell_type": "code",
   "execution_count": 27,
   "id": "5ad8d160",
   "metadata": {},
   "outputs": [
    {
     "name": "stdout",
     "output_type": "stream",
     "text": [
      "[1, 3, 5, 7, 9]\n"
     ]
    }
   ],
   "source": [
    "def num_odd (t):\n",
    "    return t % 2 == 1\n",
    "list1 = [1,2,3,4,5,6,7,8,9,10]\n",
    "odds = filter (num_odd,list1)\n",
    "print (list(odds))"
   ]
  },
  {
   "cell_type": "code",
   "execution_count": null,
   "id": "9662fe43",
   "metadata": {},
   "outputs": [],
   "source": []
  },
  {
   "cell_type": "code",
   "execution_count": 31,
   "id": "0acb396b",
   "metadata": {},
   "outputs": [
    {
     "name": "stdout",
     "output_type": "stream",
     "text": [
      "[2, 4, 6, 8, 10]\n"
     ]
    }
   ],
   "source": [
    "def num (v):\n",
    "    return v if v%2==0 else None\n",
    "\n",
    "list1 = [1,2,3,4,5,6,7,8,9,10]\n",
    "r = filter(num,list1)\n",
    "print(list(r))"
   ]
  },
  {
   "cell_type": "markdown",
   "id": "54a9ffd0",
   "metadata": {},
   "source": [
    "## lambda  = lambda arguments: expression"
   ]
  },
  {
   "cell_type": "raw",
   "id": "f3e40066",
   "metadata": {},
   "source": [
    "arguments: Lambda ifadesinde kullanılan parametrelerdir.\n",
    "expression: Lambda ifadesinin geri dönüş değerini belirleyen bir ifadedir."
   ]
  },
  {
   "cell_type": "raw",
   "id": "413e1d31",
   "metadata": {},
   "source": [
    "Lambda ifadeleri, tek satırlık anonim (isimsiz) fonksiyonlar olarak kullanılan fonksiyonlardır. \n",
    "Lambda ifadeleri, normal fonksiyonlarla aynı amaçları gerçekleştirir, \n",
    "ancak tek seferlik kullanım amaçlı daha basit ve hızlı bir alternatiftir."
   ]
  },
  {
   "cell_type": "raw",
   "id": "1ee04030",
   "metadata": {},
   "source": [
    "map ve lampda : ikisi arasındaki temel fark ilkinde halihazırda oluşturduğunuz bir fonksiyonu kullanıyorsunuz lambda ifadesinde ise siz fonksiyonun işlevselliğini satır içerisinde tanıtıyorsunuz."
   ]
  },
  {
   "cell_type": "code",
   "execution_count": 33,
   "id": "6b673556",
   "metadata": {},
   "outputs": [
    {
     "name": "stdout",
     "output_type": "stream",
     "text": [
      "25\n"
     ]
    }
   ],
   "source": [
    "square = lambda x : x**2\n",
    "print (square(5))"
   ]
  },
  {
   "cell_type": "code",
   "execution_count": 36,
   "id": "b9f22c2b",
   "metadata": {},
   "outputs": [
    {
     "name": "stdout",
     "output_type": "stream",
     "text": [
      "[1, 4, 9, 16, 25, 36]\n"
     ]
    }
   ],
   "source": [
    "numbers =  [1,2,3,4,5,6]\n",
    "squares = map (lambda y : y**2 ,numbers)\n",
    "print(list(squares))"
   ]
  },
  {
   "cell_type": "code",
   "execution_count": 38,
   "id": "a71bccff",
   "metadata": {},
   "outputs": [
    {
     "name": "stdout",
     "output_type": "stream",
     "text": [
      "[2, 4, 6]\n"
     ]
    }
   ],
   "source": [
    "numbers =  [1,2,3,4,5,6]\n",
    "num_evens = filter (lambda x : x%2==0 ,numbers)\n",
    "print(list(num_evens))"
   ]
  },
  {
   "cell_type": "code",
   "execution_count": null,
   "id": "52984f59",
   "metadata": {},
   "outputs": [],
   "source": []
  }
 ],
 "metadata": {
  "kernelspec": {
   "display_name": "Python 3 (ipykernel)",
   "language": "python",
   "name": "python3"
  },
  "language_info": {
   "codemirror_mode": {
    "name": "ipython",
    "version": 3
   },
   "file_extension": ".py",
   "mimetype": "text/x-python",
   "name": "python",
   "nbconvert_exporter": "python",
   "pygments_lexer": "ipython3",
   "version": "3.9.13"
  }
 },
 "nbformat": 4,
 "nbformat_minor": 5
}
