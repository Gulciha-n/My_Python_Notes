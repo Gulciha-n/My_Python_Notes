{
 "cells": [
  {
   "cell_type": "markdown",
   "id": "8b01bdb9",
   "metadata": {},
   "source": [
    "Break - Continue - Pass  = they work with loops"
   ]
  },
  {
   "cell_type": "markdown",
   "id": "bc9a9af2",
   "metadata": {},
   "source": [
    "Break "
   ]
  },
  {
   "cell_type": "code",
   "execution_count": 8,
   "id": "d86c5e38",
   "metadata": {},
   "outputs": [
    {
     "name": "stdout",
     "output_type": "stream",
     "text": [
      "(0, '1')\n",
      "(1, '2')\n",
      "(2, '3')\n",
      "(3, '4')\n",
      "(4, '5')\n"
     ]
    }
   ],
   "source": [
    "numbers = [\"1\",\"2\",\"3\",\"4\",\"5\"]\n",
    "for number in enumerate(numbers) :\n",
    "    print (number)"
   ]
  },
  {
   "cell_type": "code",
   "execution_count": 11,
   "id": "8ff9461d",
   "metadata": {},
   "outputs": [
    {
     "name": "stdout",
     "output_type": "stream",
     "text": [
      "number 2 in 1. index\n"
     ]
    }
   ],
   "source": [
    "numbers = [\"1\",\"2\",\"3\",\"4\",\"5\"]\n",
    "for index,number  in enumerate (numbers) : \n",
    "    if number == \"2\" :\n",
    "        print (\"number {} in {}. index\".format(number,index))\n",
    "        "
   ]
  },
  {
   "cell_type": "markdown",
   "id": "ff092c3b",
   "metadata": {},
   "source": [
    "if could be 100 list ;"
   ]
  },
  {
   "cell_type": "code",
   "execution_count": null,
   "id": "e9eb9379",
   "metadata": {},
   "outputs": [],
   "source": []
  },
  {
   "cell_type": "code",
   "execution_count": 14,
   "id": "a68e3ad6",
   "metadata": {},
   "outputs": [
    {
     "name": "stdout",
     "output_type": "stream",
     "text": [
      "number 2 in 1. index\n",
      "number 2 in 6. index\n",
      "number 2 in 11. index\n",
      "number 2 in 16. index\n",
      "number 2 in 21. index\n",
      "number 2 in 26. index\n",
      "number 2 in 31. index\n",
      "number 2 in 36. index\n",
      "number 2 in 41. index\n",
      "number 2 in 46. index\n",
      "number 2 in 51. index\n",
      "number 2 in 56. index\n",
      "number 2 in 61. index\n",
      "number 2 in 66. index\n",
      "number 2 in 71. index\n",
      "number 2 in 76. index\n",
      "number 2 in 81. index\n",
      "number 2 in 86. index\n",
      "number 2 in 91. index\n",
      "number 2 in 96. index\n",
      "number 2 in 101. index\n",
      "number 2 in 106. index\n",
      "number 2 in 111. index\n",
      "number 2 in 116. index\n",
      "number 2 in 121. index\n",
      "number 2 in 126. index\n",
      "number 2 in 131. index\n",
      "number 2 in 136. index\n",
      "number 2 in 141. index\n",
      "number 2 in 146. index\n",
      "number 2 in 151. index\n",
      "number 2 in 156. index\n",
      "number 2 in 161. index\n",
      "number 2 in 166. index\n",
      "number 2 in 171. index\n",
      "number 2 in 176. index\n",
      "number 2 in 181. index\n",
      "number 2 in 186. index\n",
      "number 2 in 191. index\n",
      "number 2 in 196. index\n",
      "number 2 in 201. index\n",
      "number 2 in 206. index\n",
      "number 2 in 211. index\n",
      "number 2 in 216. index\n",
      "number 2 in 221. index\n",
      "number 2 in 226. index\n",
      "number 2 in 231. index\n",
      "number 2 in 236. index\n",
      "number 2 in 241. index\n",
      "number 2 in 246. index\n",
      "number 2 in 251. index\n",
      "number 2 in 256. index\n",
      "number 2 in 261. index\n",
      "number 2 in 266. index\n",
      "number 2 in 271. index\n",
      "number 2 in 276. index\n",
      "number 2 in 281. index\n",
      "number 2 in 286. index\n",
      "number 2 in 291. index\n",
      "number 2 in 296. index\n",
      "number 2 in 301. index\n",
      "number 2 in 306. index\n",
      "number 2 in 311. index\n",
      "number 2 in 316. index\n",
      "number 2 in 321. index\n",
      "number 2 in 326. index\n",
      "number 2 in 331. index\n",
      "number 2 in 336. index\n",
      "number 2 in 341. index\n",
      "number 2 in 346. index\n",
      "number 2 in 351. index\n",
      "number 2 in 356. index\n",
      "number 2 in 361. index\n",
      "number 2 in 366. index\n",
      "number 2 in 371. index\n",
      "number 2 in 376. index\n",
      "number 2 in 381. index\n",
      "number 2 in 386. index\n",
      "number 2 in 391. index\n",
      "number 2 in 396. index\n",
      "number 2 in 401. index\n",
      "number 2 in 406. index\n",
      "number 2 in 411. index\n",
      "number 2 in 416. index\n",
      "number 2 in 421. index\n",
      "number 2 in 426. index\n",
      "number 2 in 431. index\n",
      "number 2 in 436. index\n",
      "number 2 in 441. index\n",
      "number 2 in 446. index\n",
      "number 2 in 451. index\n",
      "number 2 in 456. index\n",
      "number 2 in 461. index\n",
      "number 2 in 466. index\n",
      "number 2 in 471. index\n",
      "number 2 in 476. index\n",
      "number 2 in 481. index\n",
      "number 2 in 486. index\n",
      "number 2 in 491. index\n",
      "number 2 in 496. index\n"
     ]
    }
   ],
   "source": [
    "numbers = [\"1\",\"2\",\"3\",\"4\",\"5\"]*100\n",
    "for index,number  in enumerate (numbers) : \n",
    "    if number == \"2\" :\n",
    "        print (\"number {} in {}. index\".format(number,index))\n",
    "        "
   ]
  },
  {
   "cell_type": "markdown",
   "id": "67f9729c",
   "metadata": {},
   "source": [
    "if we have 100 lists and we want find only the first index and log out the loop"
   ]
  },
  {
   "cell_type": "code",
   "execution_count": 27,
   "id": "1aa8ee43",
   "metadata": {},
   "outputs": [
    {
     "name": "stdout",
     "output_type": "stream",
     "text": [
      "number 2 in 1. index\n"
     ]
    }
   ],
   "source": [
    "numbers = [\"1\",\"2\",\"3\",\"4\",\"5\"]*100\n",
    "for index,number  in enumerate (numbers) : \n",
    "    if number == \"2\" :\n",
    "        print (\"number {} in {}. index\".format(number,index))\n",
    "        break"
   ]
  },
  {
   "cell_type": "markdown",
   "id": "b8ae3e65",
   "metadata": {},
   "source": [
    "Continue "
   ]
  },
  {
   "cell_type": "code",
   "execution_count": 26,
   "id": "87cb83f9",
   "metadata": {},
   "outputs": [
    {
     "name": "stdout",
     "output_type": "stream",
     "text": [
      "2\n",
      "4\n",
      "6\n",
      "8\n"
     ]
    }
   ],
   "source": [
    "for x in range (1,10) :\n",
    "    if x%2==0 :\n",
    "        print (x)\n",
    "        continue "
   ]
  },
  {
   "cell_type": "code",
   "execution_count": 25,
   "id": "01b8711e",
   "metadata": {},
   "outputs": [
    {
     "name": "stdout",
     "output_type": "stream",
     "text": [
      "1\n",
      "3\n",
      "5\n",
      "7\n",
      "9\n"
     ]
    }
   ],
   "source": [
    "for y in range (1,10) :\n",
    "    if y%2==1 :\n",
    "        print (y)\n",
    "        continue"
   ]
  },
  {
   "cell_type": "markdown",
   "id": "abc467cf",
   "metadata": {},
   "source": [
    "Pass "
   ]
  },
  {
   "cell_type": "code",
   "execution_count": 29,
   "id": "ec17da68",
   "metadata": {},
   "outputs": [
    {
     "name": "stdout",
     "output_type": "stream",
     "text": [
      "1\n",
      "3\n",
      "5\n",
      "7\n",
      "9\n"
     ]
    }
   ],
   "source": [
    "for z in range (1,10) :\n",
    "    if z%2==0 :\n",
    "        pass\n",
    "    else : \n",
    "        print (z)"
   ]
  },
  {
   "cell_type": "markdown",
   "id": "7e9ae72d",
   "metadata": {},
   "source": [
    " Pass : allows code blocks that we haven't created yet to work"
   ]
  },
  {
   "cell_type": "code",
   "execution_count": 35,
   "id": "56884345",
   "metadata": {},
   "outputs": [
    {
     "name": "stdout",
     "output_type": "stream",
     "text": [
      "hey\n"
     ]
    }
   ],
   "source": [
    "if number  < 7:\n",
    "    pass\n",
    "else : \n",
    "    print (\"hey\")"
   ]
  },
  {
   "cell_type": "code",
   "execution_count": null,
   "id": "721d7806",
   "metadata": {},
   "outputs": [],
   "source": []
  }
 ],
 "metadata": {
  "kernelspec": {
   "display_name": "Python 3 (ipykernel)",
   "language": "python",
   "name": "python3"
  },
  "language_info": {
   "codemirror_mode": {
    "name": "ipython",
    "version": 3
   },
   "file_extension": ".py",
   "mimetype": "text/x-python",
   "name": "python",
   "nbconvert_exporter": "python",
   "pygments_lexer": "ipython3",
   "version": "3.9.13"
  }
 },
 "nbformat": 4,
 "nbformat_minor": 5
}
