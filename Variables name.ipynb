{
 "cells": [
  {
   "cell_type": "markdown",
   "id": "1692c083",
   "metadata": {},
   "source": [
    "# Variables name "
   ]
  },
  {
   "cell_type": "code",
   "execution_count": 1,
   "id": "a0cf19a0",
   "metadata": {},
   "outputs": [],
   "source": [
    "# Unacceptable variable name :\n",
    "# 1) starting with a number \n",
    "# 2) contain spaces\n",
    "# 3) using  \" * ( \\ etc.\n",
    "# 4) Reserved names (print ,int ..etc. )"
   ]
  },
  {
   "cell_type": "code",
   "execution_count": null,
   "id": "3049c93d",
   "metadata": {},
   "outputs": [],
   "source": [
    "# we don't need variables types when we assignment a variable."
   ]
  },
  {
   "cell_type": "code",
   "execution_count": 4,
   "id": "ef87ebc8",
   "metadata": {},
   "outputs": [
    {
     "name": "stdout",
     "output_type": "stream",
     "text": [
      "10\n"
     ]
    }
   ],
   "source": [
    "number = 10 \n",
    "print (number)"
   ]
  },
  {
   "cell_type": "markdown",
   "id": "80bd04e8",
   "metadata": {},
   "source": [
    "# Assignment = right to the left "
   ]
  },
  {
   "cell_type": "code",
   "execution_count": 9,
   "id": "35f62724",
   "metadata": {},
   "outputs": [
    {
     "name": "stdout",
     "output_type": "stream",
     "text": [
      "40\n"
     ]
    }
   ],
   "source": [
    "number =30\n",
    "number = number + 10\n",
    "print (number)"
   ]
  }
 ],
 "metadata": {
  "kernelspec": {
   "display_name": "Python 3 (ipykernel)",
   "language": "python",
   "name": "python3"
  },
  "language_info": {
   "codemirror_mode": {
    "name": "ipython",
    "version": 3
   },
   "file_extension": ".py",
   "mimetype": "text/x-python",
   "name": "python",
   "nbconvert_exporter": "python",
   "pygments_lexer": "ipython3",
   "version": "3.9.13"
  }
 },
 "nbformat": 4,
 "nbformat_minor": 5
}
