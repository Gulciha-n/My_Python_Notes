{
 "cells": [
  {
   "cell_type": "markdown",
   "id": "0e1adec7",
   "metadata": {},
   "source": [
    "# Iterable objects in for loops "
   ]
  },
  {
   "cell_type": "code",
   "execution_count": 1,
   "id": "ee35a760",
   "metadata": {},
   "outputs": [
    {
     "name": "stdout",
     "output_type": "stream",
     "text": [
      "1\n",
      "3\n",
      "5\n",
      "7\n"
     ]
    }
   ],
   "source": [
    "tup1 = (1,3,5,7)\n",
    "for variable in tup1 :\n",
    "    print (variable)"
   ]
  },
  {
   "cell_type": "code",
   "execution_count": 3,
   "id": "01fd2efa",
   "metadata": {},
   "outputs": [
    {
     "name": "stdout",
     "output_type": "stream",
     "text": [
      "1 2\n",
      "3 4\n",
      "5 6\n"
     ]
    }
   ],
   "source": [
    "list1 = [[1,2] , [3,4] , [5,6]]\n",
    "for x,y in list1 :\n",
    "    print (x,y)"
   ]
  },
  {
   "cell_type": "code",
   "execution_count": 4,
   "id": "7cc7ad5d",
   "metadata": {},
   "outputs": [
    {
     "name": "stdout",
     "output_type": "stream",
     "text": [
      "1\n",
      "3\n",
      "5\n"
     ]
    }
   ],
   "source": [
    "list1 = [[1,2] , [3,4] , [5,6]]\n",
    "for x,y in list1 :\n",
    "    print (x)"
   ]
  },
  {
   "cell_type": "code",
   "execution_count": 5,
   "id": "9d6035a7",
   "metadata": {},
   "outputs": [
    {
     "name": "stdout",
     "output_type": "stream",
     "text": [
      "2\n",
      "4\n",
      "6\n"
     ]
    }
   ],
   "source": [
    "list1 = [[1,2] , [3,4] , [5,6]]\n",
    "for x,y in list1 :\n",
    "    print (y)"
   ]
  },
  {
   "cell_type": "code",
   "execution_count": 6,
   "id": "9da83e6a",
   "metadata": {},
   "outputs": [
    {
     "name": "stdout",
     "output_type": "stream",
     "text": [
      "2\n",
      "12\n",
      "30\n"
     ]
    }
   ],
   "source": [
    "list1 = [[1,2] , [3,4] , [5,6]]\n",
    "for x,y in list1 :\n",
    "    print (x*y)"
   ]
  },
  {
   "cell_type": "code",
   "execution_count": 12,
   "id": "38e59998",
   "metadata": {},
   "outputs": [
    {
     "name": "stdout",
     "output_type": "stream",
     "text": [
      "key : name \t value : gülcihan\n",
      "key : surname \t value : gülmez\n"
     ]
    }
   ],
   "source": [
    "dict1 = {\n",
    "    \"name\" : \"gülcihan\",\n",
    "    \"surname\" : \"gülmez\"\n",
    "}\n",
    "for key,value in dict1.items() :\n",
    "    print (\"key : {} \\t value : {}\".format(key,value))"
   ]
  },
  {
   "cell_type": "code",
   "execution_count": 17,
   "id": "4672ff44",
   "metadata": {},
   "outputs": [
    {
     "name": "stdout",
     "output_type": "stream",
     "text": [
      "key 1 : weather\n",
      "key 2 : when\n"
     ]
    }
   ],
   "source": [
    "dict2 = {\n",
    "    \"weather\" : \"suny\",\n",
    "    \"when\" : \"tomorrow\"\n",
    "}\n",
    "x =0\n",
    "for key in dict2.keys() :\n",
    "    x = x + 1\n",
    "    print (\"key {} : {}\".format(x ,key))"
   ]
  },
  {
   "cell_type": "code",
   "execution_count": 19,
   "id": "84f49855",
   "metadata": {},
   "outputs": [
    {
     "name": "stdout",
     "output_type": "stream",
     "text": [
      "value 1 : suny\n",
      "value 2 : tomorrow\n"
     ]
    }
   ],
   "source": [
    "dict2 = {\n",
    "    \"weather\" : \"suny\",\n",
    "    \"when\" : \"tomorrow\"\n",
    "}\n",
    "x =0\n",
    "for key in dict2.values() :\n",
    "    x = x + 1\n",
    "    print (\"value {} : {}\".format(x ,key))\n",
    "    "
   ]
  },
  {
   "cell_type": "code",
   "execution_count": 24,
   "id": "02c4878f",
   "metadata": {},
   "outputs": [
    {
     "name": "stdout",
     "output_type": "stream",
     "text": [
      "key 1 : weather\t  value 1 : gülmez\n",
      "key 2 : when\t  value 2 : gülmez\n"
     ]
    }
   ],
   "source": [
    "dict2 = {\n",
    "    \"weather\" : \"suny\",\n",
    "    \"when\" : \"tomorrow\"\n",
    "}\n",
    "x =0\n",
    "for key in dict2.keys() :\n",
    "    x = x + 1\n",
    "    print (\"key {} : {}\\t  value {} : {}\".format(x , key , x , value))"
   ]
  }
 ],
 "metadata": {
  "kernelspec": {
   "display_name": "Python 3 (ipykernel)",
   "language": "python",
   "name": "python3"
  },
  "language_info": {
   "codemirror_mode": {
    "name": "ipython",
    "version": 3
   },
   "file_extension": ".py",
   "mimetype": "text/x-python",
   "name": "python",
   "nbconvert_exporter": "python",
   "pygments_lexer": "ipython3",
   "version": "3.9.13"
  }
 },
 "nbformat": 4,
 "nbformat_minor": 5
}
