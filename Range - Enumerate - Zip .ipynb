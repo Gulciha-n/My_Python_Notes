{
 "cells": [
  {
   "cell_type": "markdown",
   "id": "c6a30831",
   "metadata": {},
   "source": [
    "# Range - Enumerate - Zip "
   ]
  },
  {
   "cell_type": "raw",
   "id": "7af6599d",
   "metadata": {},
   "source": [
    "range()        [ start : end ]  ( start = inclusive , end = exclusive )"
   ]
  },
  {
   "cell_type": "code",
   "execution_count": 2,
   "id": "c4288092",
   "metadata": {},
   "outputs": [
    {
     "data": {
      "text/plain": [
       "range(0, 7)"
      ]
     },
     "execution_count": 2,
     "metadata": {},
     "output_type": "execute_result"
    }
   ],
   "source": [
    "range (7)\n",
    "# default value = 0 "
   ]
  },
  {
   "cell_type": "code",
   "execution_count": 3,
   "id": "8db090e2",
   "metadata": {},
   "outputs": [
    {
     "data": {
      "text/plain": [
       "range"
      ]
     },
     "execution_count": 3,
     "metadata": {},
     "output_type": "execute_result"
    }
   ],
   "source": [
    "type(range (7))"
   ]
  },
  {
   "cell_type": "code",
   "execution_count": 4,
   "id": "625bd0a6",
   "metadata": {},
   "outputs": [
    {
     "data": {
      "text/plain": [
       "[0, 1, 2, 3, 4, 5, 6]"
      ]
     },
     "execution_count": 4,
     "metadata": {},
     "output_type": "execute_result"
    }
   ],
   "source": [
    "list (range (7))"
   ]
  },
  {
   "cell_type": "code",
   "execution_count": 5,
   "id": "630a1b46",
   "metadata": {},
   "outputs": [
    {
     "data": {
      "text/plain": [
       "[0, 1, 2, 3, 4, 5, 6]"
      ]
     },
     "execution_count": 5,
     "metadata": {},
     "output_type": "execute_result"
    }
   ],
   "source": [
    "[*range (7)]"
   ]
  },
  {
   "cell_type": "code",
   "execution_count": 7,
   "id": "08183f9d",
   "metadata": {},
   "outputs": [
    {
     "data": {
      "text/plain": [
       "[2, 3, 4, 5, 6, 7, 8, 9]"
      ]
     },
     "execution_count": 7,
     "metadata": {},
     "output_type": "execute_result"
    }
   ],
   "source": [
    "list (range (2,10))"
   ]
  },
  {
   "cell_type": "code",
   "execution_count": 8,
   "id": "8dc73b32",
   "metadata": {},
   "outputs": [
    {
     "name": "stdout",
     "output_type": "stream",
     "text": [
      "0\n",
      "1\n",
      "2\n",
      "3\n",
      "4\n",
      "5\n",
      "6\n",
      "7\n",
      "8\n",
      "9\n"
     ]
    }
   ],
   "source": [
    "for number in range (10) :\n",
    "    print (number)"
   ]
  },
  {
   "cell_type": "code",
   "execution_count": 12,
   "id": "c4acd0bc",
   "metadata": {},
   "outputs": [
    {
     "name": "stdout",
     "output_type": "stream",
     "text": [
      "6\n",
      "7\n",
      "8\n",
      "9\n"
     ]
    }
   ],
   "source": [
    "for number in range (10) :\n",
    "    if number > 5 :\n",
    "        print (number)"
   ]
  },
  {
   "cell_type": "code",
   "execution_count": null,
   "id": "8a6adac3",
   "metadata": {},
   "outputs": [],
   "source": []
  },
  {
   "cell_type": "raw",
   "id": "ecfe5232",
   "metadata": {},
   "source": [
    "Enumerate "
   ]
  },
  {
   "cell_type": "code",
   "execution_count": 2,
   "id": "6b44802e",
   "metadata": {},
   "outputs": [
    {
     "name": "stdout",
     "output_type": "stream",
     "text": [
      "a\n",
      "b\n",
      "c\n",
      "d\n",
      "e\n"
     ]
    }
   ],
   "source": [
    "letters = (\"a\" , \"b\", \"c\" ,\"d\" ,\"e\")\n",
    "for x in letters : \n",
    "    print (x)"
   ]
  },
  {
   "cell_type": "code",
   "execution_count": 5,
   "id": "373f67fa",
   "metadata": {},
   "outputs": [
    {
     "name": "stdout",
     "output_type": "stream",
     "text": [
      "(0, 'a')\n",
      "(1, 'b')\n",
      "(2, 'c')\n",
      "(3, 'd')\n",
      "(4, 'e')\n"
     ]
    }
   ],
   "source": [
    "letters = (\"a\" , \"b\", \"c\" ,\"d\" ,\"e\")\n",
    "for x in enumerate(letters) : \n",
    "    print (x)"
   ]
  },
  {
   "cell_type": "code",
   "execution_count": 10,
   "id": "5759d6da",
   "metadata": {},
   "outputs": [
    {
     "name": "stdout",
     "output_type": "stream",
     "text": [
      "0 a\n",
      "1 b\n",
      "2 c\n",
      "3 d\n",
      "4 e\n"
     ]
    }
   ],
   "source": [
    "letters = (\"a\" , \"b\", \"c\" ,\"d\" ,\"e\")\n",
    "for index, x in enumerate(letters) : \n",
    "    print (index , x)"
   ]
  },
  {
   "cell_type": "code",
   "execution_count": 11,
   "id": "c2726ea1",
   "metadata": {},
   "outputs": [
    {
     "name": "stdout",
     "output_type": "stream",
     "text": [
      "0\n",
      "1\n",
      "2\n",
      "3\n",
      "4\n"
     ]
    }
   ],
   "source": [
    "for index, x in enumerate(letters) : \n",
    "    print (index)"
   ]
  },
  {
   "cell_type": "code",
   "execution_count": 12,
   "id": "4503da5e",
   "metadata": {},
   "outputs": [
    {
     "name": "stdout",
     "output_type": "stream",
     "text": [
      "a\n",
      "b\n",
      "c\n",
      "d\n",
      "e\n"
     ]
    }
   ],
   "source": [
    "for index, x in enumerate(letters) : \n",
    "    print (x)"
   ]
  },
  {
   "cell_type": "code",
   "execution_count": 14,
   "id": "e28d57ad",
   "metadata": {},
   "outputs": [
    {
     "name": "stdout",
     "output_type": "stream",
     "text": [
      "1 a\n",
      "2 b\n",
      "3 c\n",
      "4 d\n",
      "5 e\n"
     ]
    }
   ],
   "source": [
    "for index, x in enumerate(letters) : \n",
    "    print (index+1 ,x)"
   ]
  },
  {
   "cell_type": "code",
   "execution_count": 15,
   "id": "c857f3db",
   "metadata": {},
   "outputs": [
    {
     "name": "stdout",
     "output_type": "stream",
     "text": [
      "1. letter : a\n",
      "2. letter : b\n",
      "3. letter : c\n",
      "4. letter : d\n",
      "5. letter : e\n"
     ]
    }
   ],
   "source": [
    "letters = (\"a\" , \"b\", \"c\" ,\"d\" ,\"e\")\n",
    "for index, x in enumerate(letters) : \n",
    "    print (\"{}. letter : {}\" .format(index+1 , x))"
   ]
  },
  {
   "cell_type": "raw",
   "id": "d773a046",
   "metadata": {},
   "source": [
    "zip = adding two lists of the same length"
   ]
  },
  {
   "cell_type": "code",
   "execution_count": 16,
   "id": "e5cd3c7b",
   "metadata": {},
   "outputs": [
    {
     "name": "stdout",
     "output_type": "stream",
     "text": [
      "(1, 'DE')\n",
      "(2, 'FR')\n",
      "(3, 'TR')\n"
     ]
    }
   ],
   "source": [
    "countries = {\"TR\" , \"FR\" , \"DE\"}\n",
    "enumerates = range (1,4)\n",
    "for countries in zip (enumerates , countries) :\n",
    "    print (countries)"
   ]
  },
  {
   "cell_type": "code",
   "execution_count": null,
   "id": "f73d0c78",
   "metadata": {},
   "outputs": [],
   "source": []
  }
 ],
 "metadata": {
  "kernelspec": {
   "display_name": "Python 3 (ipykernel)",
   "language": "python",
   "name": "python3"
  },
  "language_info": {
   "codemirror_mode": {
    "name": "ipython",
    "version": 3
   },
   "file_extension": ".py",
   "mimetype": "text/x-python",
   "name": "python",
   "nbconvert_exporter": "python",
   "pygments_lexer": "ipython3",
   "version": "3.9.13"
  }
 },
 "nbformat": 4,
 "nbformat_minor": 5
}
