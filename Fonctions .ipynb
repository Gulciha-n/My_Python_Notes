{
 "cells": [
  {
   "cell_type": "markdown",
   "id": "1ef1d9ce",
   "metadata": {},
   "source": [
    "## fonctions "
   ]
  },
  {
   "cell_type": "raw",
   "id": "38089db3",
   "metadata": {},
   "source": [
    "def <fonction_name> (arguments) : \n",
    "    \"\"\"\n",
    "    comment lines \n",
    "    \n",
    "    \"\"\""
   ]
  },
  {
   "cell_type": "code",
   "execution_count": 1,
   "id": "88ef92e3",
   "metadata": {},
   "outputs": [],
   "source": [
    "def sum_of_num (a,b) :\n",
    "    c = a + b \n",
    "    return (c)"
   ]
  },
  {
   "cell_type": "code",
   "execution_count": 2,
   "id": "c842277a",
   "metadata": {},
   "outputs": [
    {
     "name": "stdout",
     "output_type": "stream",
     "text": [
      "8\n"
     ]
    }
   ],
   "source": [
    "fonct1 = sum_of_num (3,5) \n",
    "print(fonct1)"
   ]
  },
  {
   "cell_type": "code",
   "execution_count": 3,
   "id": "84711cb3",
   "metadata": {},
   "outputs": [],
   "source": [
    "def user(name=\"gülcihan\"):   # gülcihan is default value\n",
    "    return name"
   ]
  },
  {
   "cell_type": "code",
   "execution_count": 4,
   "id": "882e8893",
   "metadata": {},
   "outputs": [
    {
     "data": {
      "text/plain": [
       "'gülcihan'"
      ]
     },
     "execution_count": 4,
     "metadata": {},
     "output_type": "execute_result"
    }
   ],
   "source": [
    "user()"
   ]
  },
  {
   "cell_type": "code",
   "execution_count": 5,
   "id": "2f9db80c",
   "metadata": {},
   "outputs": [
    {
     "data": {
      "text/plain": [
       "'derya'"
      ]
     },
     "execution_count": 5,
     "metadata": {},
     "output_type": "execute_result"
    }
   ],
   "source": [
    "user (\"derya\")   # if I give a name it return that name otherwise returned \"gülcihan\""
   ]
  },
  {
   "cell_type": "code",
   "execution_count": 6,
   "id": "844a7d6a",
   "metadata": {},
   "outputs": [],
   "source": [
    "def big_num (a,b) :\n",
    "    if a > b :\n",
    "        return (a)\n",
    "    elif b > a :\n",
    "        return (b)"
   ]
  },
  {
   "cell_type": "code",
   "execution_count": 7,
   "id": "34ce4f65",
   "metadata": {},
   "outputs": [
    {
     "name": "stdout",
     "output_type": "stream",
     "text": [
      "10\n"
     ]
    }
   ],
   "source": [
    "fonct2 = big_num (6,10)\n",
    "print (fonct2)"
   ]
  },
  {
   "cell_type": "code",
   "execution_count": 8,
   "id": "40fcb652",
   "metadata": {},
   "outputs": [],
   "source": [
    "def len_text (text):\n",
    "    text_len = len(text)\n",
    "    return text_len"
   ]
  },
  {
   "cell_type": "code",
   "execution_count": 9,
   "id": "e8ad6519",
   "metadata": {},
   "outputs": [
    {
     "name": "stdout",
     "output_type": "stream",
     "text": [
      "17\n"
     ]
    }
   ],
   "source": [
    "names = \"suna and gülcihan\"\n",
    "lenght = len_text (names)\n",
    "print (lenght)"
   ]
  },
  {
   "cell_type": "code",
   "execution_count": 10,
   "id": "892ea7d3",
   "metadata": {},
   "outputs": [],
   "source": [
    "def big_num (a,b) :     \n",
    "    if a > b :\n",
    "        return (a)\n",
    "    elif b > a :\n",
    "        return (b)"
   ]
  },
  {
   "cell_type": "code",
   "execution_count": 18,
   "id": "e0480f67",
   "metadata": {},
   "outputs": [],
   "source": [
    "def text1 (a,b):                               # nested fonctions : text1 and big_num\n",
    "    print_big = big_num (a,b)\n",
    "    theText = \" {} is biggest number.\".format(print_big)\n",
    "    return (theText)"
   ]
  },
  {
   "cell_type": "code",
   "execution_count": 19,
   "id": "7ceea71f",
   "metadata": {},
   "outputs": [
    {
     "data": {
      "text/plain": [
       "' 58 is biggest number.'"
      ]
     },
     "execution_count": 19,
     "metadata": {},
     "output_type": "execute_result"
    }
   ],
   "source": [
    "text1 (39,58)"
   ]
  },
  {
   "cell_type": "code",
   "execution_count": 20,
   "id": "b1a98f31",
   "metadata": {},
   "outputs": [
    {
     "name": "stdout",
     "output_type": "stream",
     "text": [
      " 30 is biggest number.\n"
     ]
    }
   ],
   "source": [
    "a = text1 (30,20)\n",
    "print (a)"
   ]
  },
  {
   "cell_type": "markdown",
   "id": "1eee8780",
   "metadata": {},
   "source": [
    "------------------------------------------------------------------------------"
   ]
  },
  {
   "cell_type": "code",
   "execution_count": 14,
   "id": "a35f6053",
   "metadata": {},
   "outputs": [],
   "source": [
    "def split_name_surname (name_surname):\n",
    "    name = name_surname.split()[0]\n",
    "    surname = name_surname.split()[1]\n",
    "    return name ,surname"
   ]
  },
  {
   "cell_type": "code",
   "execution_count": 15,
   "id": "78935a17",
   "metadata": {},
   "outputs": [
    {
     "data": {
      "text/plain": [
       "('gülcihan', 'gülmez')"
      ]
     },
     "execution_count": 15,
     "metadata": {},
     "output_type": "execute_result"
    }
   ],
   "source": [
    "split_name_surname (\"gülcihan gülmez\")"
   ]
  },
  {
   "cell_type": "code",
   "execution_count": 16,
   "id": "5aec281a",
   "metadata": {},
   "outputs": [
    {
     "name": "stdout",
     "output_type": "stream",
     "text": [
      "gülcihan\n",
      "gülmez\n"
     ]
    }
   ],
   "source": [
    "a,b = split_name_surname (\"gülcihan gülmez\") \n",
    "print (a)\n",
    "print (b)"
   ]
  },
  {
   "cell_type": "markdown",
   "id": "d755b017",
   "metadata": {},
   "source": [
    "## *args (arguments)  = it combine arguments"
   ]
  },
  {
   "cell_type": "raw",
   "id": "9c3531fa",
   "metadata": {},
   "source": [
    "\" \".join (\"gülcihan\" , \"gülmez\")   =>  used =  \" \"  and  .join ([])   list type\n",
    " This method can only be used for two arguments . Fore more than argument used \"args\"."
   ]
  },
  {
   "cell_type": "code",
   "execution_count": 31,
   "id": "c941aca1",
   "metadata": {},
   "outputs": [],
   "source": [
    "def combine_name_surname (name,surn):\n",
    "    user = \"-\".join([name,surn])\n",
    "    return user"
   ]
  },
  {
   "cell_type": "code",
   "execution_count": 45,
   "id": "0dd48918",
   "metadata": {},
   "outputs": [
    {
     "name": "stdout",
     "output_type": "stream",
     "text": [
      "batu-yılmaz\n"
     ]
    }
   ],
   "source": [
    "person = combine_name_surname(\"batu\", \"yılmaz\")\n",
    "print (person)"
   ]
  },
  {
   "cell_type": "code",
   "execution_count": 46,
   "id": "0159122e",
   "metadata": {},
   "outputs": [],
   "source": [
    "def combine_names (*args):\n",
    "    peoples = \" - \".join(args)\n",
    "    return peoples"
   ]
  },
  {
   "cell_type": "code",
   "execution_count": 47,
   "id": "6ccc3239",
   "metadata": {},
   "outputs": [
    {
     "name": "stdout",
     "output_type": "stream",
     "text": [
      "batu - cansu - pelin\n"
     ]
    }
   ],
   "source": [
    "a = combine_names(\"batu\",\"cansu\",\"pelin\")\n",
    "print (a)"
   ]
  },
  {
   "cell_type": "code",
   "execution_count": 52,
   "id": "593f5889",
   "metadata": {},
   "outputs": [],
   "source": [
    "def combine_items (*args):\n",
    "    for item in args:\n",
    "        print (item)\n",
    "    peoples = \" - \".join(args)\n",
    "    return peoples"
   ]
  },
  {
   "cell_type": "code",
   "execution_count": 53,
   "id": "0f43b34e",
   "metadata": {},
   "outputs": [
    {
     "name": "stdout",
     "output_type": "stream",
     "text": [
      "batu\n",
      "cansu\n",
      "pelin\n",
      "batu - cansu - pelin\n"
     ]
    }
   ],
   "source": [
    "b = combine_items(\"batu\",\"cansu\",\"pelin\")\n",
    "print (b)"
   ]
  },
  {
   "cell_type": "markdown",
   "id": "238e081e",
   "metadata": {},
   "source": [
    "## **kwargs (key word arguments) = if used dictionary "
   ]
  },
  {
   "cell_type": "code",
   "execution_count": 92,
   "id": "8add1697",
   "metadata": {},
   "outputs": [],
   "source": [
    "def second_name (**kwargs):\n",
    "    if \"secname\" in kwargs :\n",
    "        print (kwargs [\"secname\"])\n",
    "    else :\n",
    "        print (\"no second name\")"
   ]
  },
  {
   "cell_type": "code",
   "execution_count": 93,
   "id": "f4fd0ed7",
   "metadata": {},
   "outputs": [
    {
     "name": "stdout",
     "output_type": "stream",
     "text": [
      "no second name\n"
     ]
    }
   ],
   "source": [
    "second_name(name=\"suna\" )"
   ]
  },
  {
   "cell_type": "code",
   "execution_count": 94,
   "id": "b40ac8c7",
   "metadata": {},
   "outputs": [
    {
     "name": "stdout",
     "output_type": "stream",
     "text": [
      "gül\n"
     ]
    }
   ],
   "source": [
    "second_name(name=\"suna\" , surname = \"gülmez\", secname = \"gül\")"
   ]
  },
  {
   "cell_type": "raw",
   "id": "7abc7b6d",
   "metadata": {},
   "source": [
    "-------------------------------------------------------------------------------------------"
   ]
  },
  {
   "cell_type": "code",
   "execution_count": 95,
   "id": "eddbb397",
   "metadata": {},
   "outputs": [],
   "source": [
    "def menu (**kwargs):\n",
    "    if \"dessert\" in kwargs:\n",
    "        print (kwargs[\"dessert\"])\n",
    "    else:\n",
    "        print(\"no dessert\")"
   ]
  },
  {
   "cell_type": "code",
   "execution_count": 96,
   "id": "87aac571",
   "metadata": {},
   "outputs": [
    {
     "name": "stdout",
     "output_type": "stream",
     "text": [
      "sufle\n"
     ]
    }
   ],
   "source": [
    "menu (food = \"pizza\",drink = \"ice tea\",dessert=\"sufle\")"
   ]
  },
  {
   "cell_type": "code",
   "execution_count": 97,
   "id": "6cf8af37",
   "metadata": {},
   "outputs": [
    {
     "name": "stdout",
     "output_type": "stream",
     "text": [
      "no dessert\n"
     ]
    }
   ],
   "source": [
    "menu (food = \"pizza\",drink = \"ice tea\")"
   ]
  }
 ],
 "metadata": {
  "kernelspec": {
   "display_name": "Python 3 (ipykernel)",
   "language": "python",
   "name": "python3"
  },
  "language_info": {
   "codemirror_mode": {
    "name": "ipython",
    "version": 3
   },
   "file_extension": ".py",
   "mimetype": "text/x-python",
   "name": "python",
   "nbconvert_exporter": "python",
   "pygments_lexer": "ipython3",
   "version": "3.9.13"
  }
 },
 "nbformat": 4,
 "nbformat_minor": 5
}
