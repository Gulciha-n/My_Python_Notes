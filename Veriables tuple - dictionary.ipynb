{
 "cells": [
  {
   "cell_type": "markdown",
   "id": "2ef47cfd",
   "metadata": {},
   "source": [
    "# Veriables tuple - dictionary "
   ]
  },
  {
   "cell_type": "markdown",
   "id": "6d2ba3ab",
   "metadata": {},
   "source": [
    "Tuple = type of immutable list  ()"
   ]
  },
  {
   "cell_type": "code",
   "execution_count": 21,
   "id": "25883c4d",
   "metadata": {},
   "outputs": [
    {
     "name": "stdout",
     "output_type": "stream",
     "text": [
      "[1, 34, 56, 53, 9, 12, 34]\n",
      "(1, 34, 56, 53, 9, 12, 34)\n"
     ]
    }
   ],
   "source": [
    "list1 = [1,34,56,53,9,12,34]\n",
    "print (list1)\n",
    "tup1= (1,34,56,53,9,12,34)\n",
    "print (tup1)"
   ]
  },
  {
   "cell_type": "code",
   "execution_count": 4,
   "id": "11c34f89",
   "metadata": {},
   "outputs": [
    {
     "name": "stdout",
     "output_type": "stream",
     "text": [
      "['a', 34, 56, 53, 9, 12, 34]\n"
     ]
    }
   ],
   "source": [
    "list1 [0] = \"a\"\n",
    "print (list1)"
   ]
  },
  {
   "cell_type": "code",
   "execution_count": 5,
   "id": "8acd9147",
   "metadata": {},
   "outputs": [
    {
     "ename": "TypeError",
     "evalue": "'tuple' object does not support item assignment",
     "output_type": "error",
     "traceback": [
      "\u001b[1;31m---------------------------------------------------------------------------\u001b[0m",
      "\u001b[1;31mTypeError\u001b[0m                                 Traceback (most recent call last)",
      "\u001b[1;32m~\\AppData\\Local\\Temp\\ipykernel_28600\\2495556157.py\u001b[0m in \u001b[0;36m<module>\u001b[1;34m\u001b[0m\n\u001b[1;32m----> 1\u001b[1;33m \u001b[0mtup1\u001b[0m \u001b[1;33m[\u001b[0m\u001b[1;36m0\u001b[0m\u001b[1;33m]\u001b[0m \u001b[1;33m=\u001b[0m \u001b[1;34m\"a\"\u001b[0m\u001b[1;33m\u001b[0m\u001b[1;33m\u001b[0m\u001b[0m\n\u001b[0m",
      "\u001b[1;31mTypeError\u001b[0m: 'tuple' object does not support item assignment"
     ]
    }
   ],
   "source": [
    "tup1 [0] = \"a\"           "
   ]
  },
  {
   "cell_type": "raw",
   "id": "aff532df",
   "metadata": {},
   "source": [
    " Tuple does not support item assignment they are immutable we cannot change."
   ]
  },
  {
   "cell_type": "code",
   "execution_count": 6,
   "id": "4e53b09f",
   "metadata": {},
   "outputs": [
    {
     "data": {
      "text/plain": [
       "2"
      ]
     },
     "execution_count": 6,
     "metadata": {},
     "output_type": "execute_result"
    }
   ],
   "source": [
    "tup1.count(34)"
   ]
  },
  {
   "cell_type": "code",
   "execution_count": 7,
   "id": "64dbb403",
   "metadata": {},
   "outputs": [
    {
     "data": {
      "text/plain": [
       "0"
      ]
     },
     "execution_count": 7,
     "metadata": {},
     "output_type": "execute_result"
    }
   ],
   "source": [
    "tup1.count(False)"
   ]
  },
  {
   "cell_type": "code",
   "execution_count": 8,
   "id": "1275aaeb",
   "metadata": {},
   "outputs": [
    {
     "data": {
      "text/plain": [
       "1"
      ]
     },
     "execution_count": 8,
     "metadata": {},
     "output_type": "execute_result"
    }
   ],
   "source": [
    "tup1.index(34)"
   ]
  },
  {
   "cell_type": "code",
   "execution_count": 9,
   "id": "d3f023fd",
   "metadata": {},
   "outputs": [
    {
     "data": {
      "text/plain": [
       "5"
      ]
     },
     "execution_count": 9,
     "metadata": {},
     "output_type": "execute_result"
    }
   ],
   "source": [
    "tup1.index(12)"
   ]
  },
  {
   "cell_type": "code",
   "execution_count": 10,
   "id": "635f7a52",
   "metadata": {},
   "outputs": [
    {
     "ename": "ValueError",
     "evalue": "tuple.index(x): x not in tuple",
     "output_type": "error",
     "traceback": [
      "\u001b[1;31m---------------------------------------------------------------------------\u001b[0m",
      "\u001b[1;31mValueError\u001b[0m                                Traceback (most recent call last)",
      "\u001b[1;32m~\\AppData\\Local\\Temp\\ipykernel_28600\\3730213261.py\u001b[0m in \u001b[0;36m<module>\u001b[1;34m\u001b[0m\n\u001b[1;32m----> 1\u001b[1;33m \u001b[0mtup1\u001b[0m\u001b[1;33m.\u001b[0m\u001b[0mindex\u001b[0m\u001b[1;33m(\u001b[0m\u001b[1;32mFalse\u001b[0m\u001b[1;33m)\u001b[0m\u001b[1;33m\u001b[0m\u001b[1;33m\u001b[0m\u001b[0m\n\u001b[0m",
      "\u001b[1;31mValueError\u001b[0m: tuple.index(x): x not in tuple"
     ]
    }
   ],
   "source": [
    "tup1.index(False)                   "
   ]
  },
  {
   "cell_type": "raw",
   "id": "22a19537",
   "metadata": {},
   "source": [
    "***Can't be a index value that doesn't exist."
   ]
  },
  {
   "cell_type": "raw",
   "id": "238d7d8f",
   "metadata": {},
   "source": [
    "Dictionary = multidimensional type variables  ( KEY - VALUE )"
   ]
  },
  {
   "cell_type": "code",
   "execution_count": 11,
   "id": "8622169d",
   "metadata": {},
   "outputs": [],
   "source": [
    "dict1 = {\n",
    "    \"name\": \"gülcihan\" ,\n",
    "    \"job\" : \"engineering\" , \n",
    "    \"grade\": 1 , \n",
    "    \"location\" : \"Türkiye\"}\n",
    "\n",
    "# four key - value "
   ]
  },
  {
   "cell_type": "code",
   "execution_count": 12,
   "id": "be88de7d",
   "metadata": {},
   "outputs": [
    {
     "data": {
      "text/plain": [
       "{'name': 'gülcihan', 'job': 'engineering', 'grade': 1, 'location': 'Türkiye'}"
      ]
     },
     "execution_count": 12,
     "metadata": {},
     "output_type": "execute_result"
    }
   ],
   "source": [
    "dict1"
   ]
  },
  {
   "cell_type": "code",
   "execution_count": 13,
   "id": "dd0d16e6",
   "metadata": {},
   "outputs": [],
   "source": [
    "dict2 = {\"food\" : \"karnıyarık\", \n",
    "         \"drink\" : {\"first  drink\" : \"ıce tea peach\", \"second drink\" : \"şalgam\" }, \n",
    "         \"dessert\" : \"künefe\"}\n",
    "\n",
    "# three key - value (nested dictionary)"
   ]
  },
  {
   "cell_type": "code",
   "execution_count": 14,
   "id": "52deeba6",
   "metadata": {},
   "outputs": [
    {
     "data": {
      "text/plain": [
       "{'food': 'karnıyarık',\n",
       " 'drink': {'first  drink': 'ıce tea peach', 'second drink': 'şalgam'},\n",
       " 'dessert': 'künefe'}"
      ]
     },
     "execution_count": 14,
     "metadata": {},
     "output_type": "execute_result"
    }
   ],
   "source": [
    "dict2"
   ]
  },
  {
   "cell_type": "code",
   "execution_count": 15,
   "id": "cdade3fc",
   "metadata": {},
   "outputs": [
    {
     "data": {
      "text/plain": [
       "'karnıyarık'"
      ]
     },
     "execution_count": 15,
     "metadata": {},
     "output_type": "execute_result"
    }
   ],
   "source": [
    "dict2 [\"food\"]"
   ]
  },
  {
   "cell_type": "code",
   "execution_count": 16,
   "id": "251c9b51",
   "metadata": {},
   "outputs": [
    {
     "data": {
      "text/plain": [
       "'şalgam'"
      ]
     },
     "execution_count": 16,
     "metadata": {},
     "output_type": "execute_result"
    }
   ],
   "source": [
    "dict2 [\"drink\"][\"second drink\"]"
   ]
  },
  {
   "cell_type": "markdown",
   "id": "8d4fe291",
   "metadata": {},
   "source": [
    "# get"
   ]
  },
  {
   "cell_type": "code",
   "execution_count": 17,
   "id": "f817e30e",
   "metadata": {},
   "outputs": [
    {
     "data": {
      "text/plain": [
       "'karnıyarık'"
      ]
     },
     "execution_count": 17,
     "metadata": {},
     "output_type": "execute_result"
    }
   ],
   "source": [
    "dict2.get(\"food\")"
   ]
  },
  {
   "cell_type": "code",
   "execution_count": 18,
   "id": "406559be",
   "metadata": {},
   "outputs": [
    {
     "data": {
      "text/plain": [
       "{'first  drink': 'ıce tea peach', 'second drink': 'şalgam'}"
      ]
     },
     "execution_count": 18,
     "metadata": {},
     "output_type": "execute_result"
    }
   ],
   "source": [
    "dict2.get(\"drink\")"
   ]
  },
  {
   "cell_type": "code",
   "execution_count": 19,
   "id": "9f0080fb",
   "metadata": {},
   "outputs": [
    {
     "name": "stdout",
     "output_type": "stream",
     "text": [
      "şalgam\n"
     ]
    }
   ],
   "source": [
    "print (dict2.get(\"drink\").get(\"second drink\"))"
   ]
  },
  {
   "cell_type": "code",
   "execution_count": 22,
   "id": "3e14218f",
   "metadata": {},
   "outputs": [
    {
     "data": {
      "text/plain": [
       "dict_keys(['food', 'drink', 'dessert'])"
      ]
     },
     "execution_count": 22,
     "metadata": {},
     "output_type": "execute_result"
    }
   ],
   "source": [
    "dict2.keys()"
   ]
  },
  {
   "cell_type": "code",
   "execution_count": 23,
   "id": "f141aa2b",
   "metadata": {},
   "outputs": [
    {
     "data": {
      "text/plain": [
       "dict_values(['karnıyarık', {'first  drink': 'ıce tea peach', 'second drink': 'şalgam'}, 'künefe'])"
      ]
     },
     "execution_count": 23,
     "metadata": {},
     "output_type": "execute_result"
    }
   ],
   "source": [
    "dict2.values()"
   ]
  },
  {
   "cell_type": "code",
   "execution_count": 24,
   "id": "3dbad86b",
   "metadata": {},
   "outputs": [
    {
     "data": {
      "text/plain": [
       "dict_items([('food', 'karnıyarık'), ('drink', {'first  drink': 'ıce tea peach', 'second drink': 'şalgam'}), ('dessert', 'künefe')])"
      ]
     },
     "execution_count": 24,
     "metadata": {},
     "output_type": "execute_result"
    }
   ],
   "source": [
    "dict2.items()"
   ]
  }
 ],
 "metadata": {
  "kernelspec": {
   "display_name": "Python 3 (ipykernel)",
   "language": "python",
   "name": "python3"
  },
  "language_info": {
   "codemirror_mode": {
    "name": "ipython",
    "version": 3
   },
   "file_extension": ".py",
   "mimetype": "text/x-python",
   "name": "python",
   "nbconvert_exporter": "python",
   "pygments_lexer": "ipython3",
   "version": "3.9.13"
  }
 },
 "nbformat": 4,
 "nbformat_minor": 5
}
