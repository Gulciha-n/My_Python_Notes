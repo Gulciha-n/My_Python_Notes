{
 "cells": [
  {
   "cell_type": "raw",
   "id": "04374d02",
   "metadata": {},
   "source": [
    "If statement\n",
    "instruction : \n",
    "\n",
    "if <condition> :\n",
    "    print (\"....\")\n",
    " "
   ]
  },
  {
   "cell_type": "code",
   "execution_count": 3,
   "id": "b97a6a26",
   "metadata": {},
   "outputs": [
    {
     "name": "stdout",
     "output_type": "stream",
     "text": [
      "take your umbrella.\n"
     ]
    }
   ],
   "source": [
    "weather = \"rainy\"\n",
    "if weather == \"rainy\" :\n",
    "    print (\"take your umbrella.\")"
   ]
  },
  {
   "cell_type": "code",
   "execution_count": 4,
   "id": "5273cef8",
   "metadata": {},
   "outputs": [
    {
     "name": "stdout",
     "output_type": "stream",
     "text": [
      "take your umbrella\n"
     ]
    }
   ],
   "source": [
    "weather = \"rainy\"\n",
    "if weather == \"rainy\" :\n",
    "    print (\"take your umbrella\")\n",
    "else :\n",
    "    print (\"no problem can you go\")"
   ]
  },
  {
   "cell_type": "code",
   "execution_count": 18,
   "id": "168eec7f",
   "metadata": {},
   "outputs": [
    {
     "name": "stdout",
     "output_type": "stream",
     "text": [
      "no problem you can go\n"
     ]
    }
   ],
   "source": [
    "weather = \"rainy\"\n",
    "if weather == \"sunny\" :\n",
    "    print (\"take your umbrella\")\n",
    "else :\n",
    "    print (\"no problem you can go\")"
   ]
  },
  {
   "cell_type": "code",
   "execution_count": 19,
   "id": "863a8789",
   "metadata": {},
   "outputs": [
    {
     "name": "stdout",
     "output_type": "stream",
     "text": [
      "take your umbrella\n"
     ]
    }
   ],
   "source": [
    "weather = \"rainy\"\n",
    "if weather == \"rainy\" :\n",
    "    print (\"take your umbrella\")\n",
    "elif weather == \"snowy\" :\n",
    "    print (\"take your scarf\")\n",
    "else :\n",
    "    print (\"no problem you can go\")"
   ]
  },
  {
   "cell_type": "raw",
   "id": "d0dae2b6",
   "metadata": {},
   "source": []
  },
  {
   "cell_type": "code",
   "execution_count": 8,
   "id": "23859b77",
   "metadata": {},
   "outputs": [
    {
     "name": "stdout",
     "output_type": "stream",
     "text": [
      "Access failed\n"
     ]
    }
   ],
   "source": [
    "age = 16\n",
    "if age >18 :\n",
    "    print (\"You can access this page.\")\n",
    "else :\n",
    "    print (\"Access failed\")"
   ]
  },
  {
   "cell_type": "markdown",
   "id": "27911c77",
   "metadata": {},
   "source": []
  },
  {
   "cell_type": "code",
   "execution_count": 14,
   "id": "67d92fbe",
   "metadata": {},
   "outputs": [
    {
     "name": "stdout",
     "output_type": "stream",
     "text": [
      "The letter does not exist in the list\n"
     ]
    }
   ],
   "source": [
    "list1 = [\"g\" , \"ü\" , \"l\" , \"c\", \"i\" , \"h\" , \"a\" ]\n",
    "if \"n\" in list1 : \n",
    "    print (\"The letter exist in the list\")\n",
    "else :\n",
    "    print (\"The letter does not exist in the list\")"
   ]
  },
  {
   "cell_type": "code",
   "execution_count": 17,
   "id": "998aad51",
   "metadata": {},
   "outputs": [
    {
     "name": "stdout",
     "output_type": "stream",
     "text": [
      "The letter added to the list\n",
      "up to date list : ['g', 'ü', 'l', 'c', 'i', 'h', 'a', 'n']\n"
     ]
    }
   ],
   "source": [
    "list1 = [\"g\" , \"ü\" , \"l\" , \"c\", \"i\" , \"h\" , \"a\" ]\n",
    "if \"n\" in list1 : \n",
    "    print (\"The letter exist in the list\")\n",
    "else :\n",
    "    list1.append(\"n\")\n",
    "    print (\"The letter added to the list\")\n",
    "\n",
    "print (\"up to date list : {}\".format(list1))"
   ]
  },
  {
   "cell_type": "markdown",
   "id": "824f2c55",
   "metadata": {},
   "source": [
    "And - or "
   ]
  },
  {
   "cell_type": "code",
   "execution_count": 22,
   "id": "81fce213",
   "metadata": {},
   "outputs": [
    {
     "name": "stdout",
     "output_type": "stream",
     "text": [
      "the letter exist in the list but index is not 7\n"
     ]
    }
   ],
   "source": [
    "list1 = [\"g\" , \"ü\" , \"l\" , \"c\", \"i\" , \"h\" , \"a\" ,\"n\" ]\n",
    "if (\"a\" in list1) and (\"a\" == list1[7]) :\n",
    "    print (\"the letter exist in the list and index is 7\")\n",
    "elif \"a\" in list1 :\n",
    "    print (\"the letter exist in the list but index is not 7\")"
   ]
  },
  {
   "cell_type": "markdown",
   "id": "d8fe32ae",
   "metadata": {},
   "source": []
  },
  {
   "cell_type": "code",
   "execution_count": 37,
   "id": "0395345a",
   "metadata": {},
   "outputs": [
    {
     "name": "stdout",
     "output_type": "stream",
     "text": [
      "food exist and it's kebap \n"
     ]
    }
   ],
   "source": [
    "dict1 = {\"food\" : \"kebap\" , \"drink\" : \"ice tea\" , \"sweat\" : \"sütlaç\"}\n",
    "if \"food\"  in  dict1 :\n",
    "    print (\"food exist and it's {} \".format(dict1[\"food\"]))"
   ]
  },
  {
   "cell_type": "code",
   "execution_count": 69,
   "id": "3bf289fc",
   "metadata": {},
   "outputs": [
    {
     "name": "stdout",
     "output_type": "stream",
     "text": [
      "food exist and it's karnıyarık and drink is ice tea.\n"
     ]
    }
   ],
   "source": [
    "dict1 = {\"food\" : \"karnıyarık\" , \"drink\" : \"ice tea\" , \"sweat\" : \"sütlaç\"}\n",
    "if (\"food\"  in  dict1) and (\"drink\" in dict1) :\n",
    "    print (\"food exist and it's {}\" .format(dict1[\"food\"]), \"and drink is {}.\".format(dict1[\"drink\"]))"
   ]
  },
  {
   "cell_type": "code",
   "execution_count": 78,
   "id": "5896a344",
   "metadata": {},
   "outputs": [
    {
     "name": "stdout",
     "output_type": "stream",
     "text": [
      "food exist and it's karnıyarık and drink is ice tea.\n"
     ]
    }
   ],
   "source": [
    "dict1 = {\"food\" : \"karnıyarık\" , \"drink\" : \"ice tea\" , \"sweat\" : \"sütlaç\"}\n",
    "if (\"food\"  in  dict1) and (\"drink\" in dict1) :\n",
    "    print (\"food exist and it's {x} and drink is {y}.\".format(x=\"karnıyarık\",y=\"ice tea\"))"
   ]
  }
 ],
 "metadata": {
  "kernelspec": {
   "display_name": "Python 3 (ipykernel)",
   "language": "python",
   "name": "python3"
  },
  "language_info": {
   "codemirror_mode": {
    "name": "ipython",
    "version": 3
   },
   "file_extension": ".py",
   "mimetype": "text/x-python",
   "name": "python",
   "nbconvert_exporter": "python",
   "pygments_lexer": "ipython3",
   "version": "3.9.13"
  }
 },
 "nbformat": 4,
 "nbformat_minor": 5
}
