{
 "cells": [
  {
   "cell_type": "markdown",
   "id": "b6eafe5c",
   "metadata": {},
   "source": [
    "# Variables ( list - set) "
   ]
  },
  {
   "cell_type": "raw",
   "id": "c3d53392",
   "metadata": {},
   "source": [
    "Lists = collections that holding different variables types "
   ]
  },
  {
   "cell_type": "code",
   "execution_count": 4,
   "id": "9af18350",
   "metadata": {},
   "outputs": [
    {
     "name": "stdout",
     "output_type": "stream",
     "text": [
      "['a', 'b', 'c', 'd', 'e']\n"
     ]
    }
   ],
   "source": [
    "list1 = [\"a\" , \"b\" , \"c\" , \"d\" , \"e\"]\n",
    "print (list1)"
   ]
  },
  {
   "cell_type": "code",
   "execution_count": 22,
   "id": "0719b5c9",
   "metadata": {},
   "outputs": [
    {
     "name": "stdout",
     "output_type": "stream",
     "text": [
      "['a', 'b', 'c', 'd', 'e', 'f']\n"
     ]
    }
   ],
   "source": [
    "list1 = list1 + [\"f\"]       ## we should use [] list when we doing operations in lists.  \n",
    "print (list1)"
   ]
  },
  {
   "cell_type": "code",
   "execution_count": 23,
   "id": "3ed92a26",
   "metadata": {},
   "outputs": [
    {
     "data": {
      "text/plain": [
       "['d', 'e', 'f']"
      ]
     },
     "execution_count": 23,
     "metadata": {},
     "output_type": "execute_result"
    }
   ],
   "source": [
    "list1 [3:6]"
   ]
  },
  {
   "cell_type": "code",
   "execution_count": 24,
   "id": "a95a8f38",
   "metadata": {},
   "outputs": [
    {
     "data": {
      "text/plain": [
       "['a', 'b', 'c', 'd', 'e', 'f']"
      ]
     },
     "execution_count": 24,
     "metadata": {},
     "output_type": "execute_result"
    }
   ],
   "source": [
    "list1"
   ]
  },
  {
   "cell_type": "raw",
   "id": "378b50e5",
   "metadata": {},
   "source": [
    "*** Some commands such as append , pop don't need assignment. \n",
    "append = adding a new variable  /  pop = delete the last variable or which you want."
   ]
  },
  {
   "cell_type": "code",
   "execution_count": 29,
   "id": "20d67058",
   "metadata": {},
   "outputs": [
    {
     "data": {
      "text/plain": [
       "['a', 'b', 'c', 'd', 'e', 'f', 'g']"
      ]
     },
     "execution_count": 29,
     "metadata": {},
     "output_type": "execute_result"
    }
   ],
   "source": [
    "list1.append(\"g\")\n",
    "list1"
   ]
  },
  {
   "cell_type": "code",
   "execution_count": 30,
   "id": "4c836360",
   "metadata": {},
   "outputs": [
    {
     "data": {
      "text/plain": [
       "'c'"
      ]
     },
     "execution_count": 30,
     "metadata": {},
     "output_type": "execute_result"
    }
   ],
   "source": [
    "list1.pop(2)"
   ]
  },
  {
   "cell_type": "code",
   "execution_count": 31,
   "id": "12df9ce0",
   "metadata": {},
   "outputs": [
    {
     "data": {
      "text/plain": [
       "['a', 'b', 'd', 'e', 'f', 'g']"
      ]
     },
     "execution_count": 31,
     "metadata": {},
     "output_type": "execute_result"
    }
   ],
   "source": [
    "list1"
   ]
  },
  {
   "cell_type": "markdown",
   "id": "7c244126",
   "metadata": {},
   "source": [
    "# "
   ]
  },
  {
   "cell_type": "code",
   "execution_count": 46,
   "id": "fc00b483",
   "metadata": {},
   "outputs": [
    {
     "name": "stdout",
     "output_type": "stream",
     "text": [
      "[98, 1, 1, 23, 44, 56, 76, 463]\n"
     ]
    }
   ],
   "source": [
    "numbers = [98,1,1,23,44,56,76,463]\n",
    "print (numbers)"
   ]
  },
  {
   "cell_type": "code",
   "execution_count": 56,
   "id": "5ded1542",
   "metadata": {},
   "outputs": [
    {
     "name": "stdout",
     "output_type": "stream",
     "text": [
      "[1, 1, 23, 44, 56, 76, 98, 463]\n"
     ]
    }
   ],
   "source": [
    "numbers.sort()\n",
    "print (numbers)"
   ]
  },
  {
   "cell_type": "code",
   "execution_count": 65,
   "id": "de66f230",
   "metadata": {},
   "outputs": [],
   "source": [
    "numbers.reverse()"
   ]
  },
  {
   "cell_type": "code",
   "execution_count": 67,
   "id": "b65e5e51",
   "metadata": {},
   "outputs": [
    {
     "data": {
      "text/plain": [
       "[463, 98, 76, 56, 44, 23, 1, 1]"
      ]
     },
     "execution_count": 67,
     "metadata": {},
     "output_type": "execute_result"
    }
   ],
   "source": [
    "numbers"
   ]
  },
  {
   "cell_type": "markdown",
   "id": "46df6997",
   "metadata": {},
   "source": [
    "# "
   ]
  },
  {
   "cell_type": "code",
   "execution_count": 70,
   "id": "eb4b0653",
   "metadata": {},
   "outputs": [
    {
     "name": "stdout",
     "output_type": "stream",
     "text": [
      "{1, 34, 5, 'a', 7, 765}\n"
     ]
    }
   ],
   "source": [
    "set1 = {1 ,1 ,34 ,5 ,7 ,765 ,\"a\"}\n",
    "print (set1)"
   ]
  },
  {
   "cell_type": "markdown",
   "id": "a6655ddb",
   "metadata": {},
   "source": [
    "# "
   ]
  },
  {
   "cell_type": "code",
   "execution_count": 4,
   "id": "68cc0799",
   "metadata": {},
   "outputs": [
    {
     "name": "stdout",
     "output_type": "stream",
     "text": [
      "[12, 34, 56, 4, 3, 2, 6, 7, 7]\n"
     ]
    }
   ],
   "source": [
    "list2 = [12,34,56,4,3,2,6,7,7]\n",
    "print (list2)"
   ]
  },
  {
   "cell_type": "code",
   "execution_count": 5,
   "id": "208ebdaa",
   "metadata": {},
   "outputs": [
    {
     "data": {
      "text/plain": [
       "{2, 3, 4, 6, 7, 12, 34, 56}"
      ]
     },
     "execution_count": 5,
     "metadata": {},
     "output_type": "execute_result"
    }
   ],
   "source": [
    "set (list2)"
   ]
  },
  {
   "cell_type": "code",
   "execution_count": 7,
   "id": "79f23b94",
   "metadata": {},
   "outputs": [
    {
     "name": "stdout",
     "output_type": "stream",
     "text": [
      "None\n",
      "[2, 3, 4, 6, 7, 7, 12, 34, 56]\n"
     ]
    }
   ],
   "source": [
    "print (list2.sort())\n",
    "print (list2)"
   ]
  }
 ],
 "metadata": {
  "kernelspec": {
   "display_name": "Python 3 (ipykernel)",
   "language": "python",
   "name": "python3"
  },
  "language_info": {
   "codemirror_mode": {
    "name": "ipython",
    "version": 3
   },
   "file_extension": ".py",
   "mimetype": "text/x-python",
   "name": "python",
   "nbconvert_exporter": "python",
   "pygments_lexer": "ipython3",
   "version": "3.9.13"
  }
 },
 "nbformat": 4,
 "nbformat_minor": 5
}
