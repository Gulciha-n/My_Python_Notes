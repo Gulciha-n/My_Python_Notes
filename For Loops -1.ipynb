{
 "cells": [
  {
   "cell_type": "markdown",
   "id": "d3008836",
   "metadata": {},
   "source": [
    "# For loops                 "
   ]
  },
  {
   "cell_type": "raw",
   "id": "5cf11808",
   "metadata": {},
   "source": [
    "  for <variable> in <iterable>  :"
   ]
  },
  {
   "cell_type": "code",
   "execution_count": 36,
   "id": "10c220f9",
   "metadata": {},
   "outputs": [],
   "source": [
    "list_user = [\"gülcihan gülmez\", \"derya gülmez\" , \"pelin gülmez\" , \"suna gülmez\" , \"cansu gülmez\",]"
   ]
  },
  {
   "cell_type": "code",
   "execution_count": 37,
   "id": "7d6c14eb",
   "metadata": {},
   "outputs": [
    {
     "name": "stdout",
     "output_type": "stream",
     "text": [
      "gülcihan gülmez\n",
      "derya gülmez\n",
      "pelin gülmez\n",
      "suna gülmez\n",
      "cansu gülmez\n"
     ]
    }
   ],
   "source": [
    "for  user in list_user :\n",
    "    print (user)"
   ]
  },
  {
   "cell_type": "code",
   "execution_count": 38,
   "id": "93073b86",
   "metadata": {},
   "outputs": [
    {
     "name": "stdout",
     "output_type": "stream",
     "text": [
      "1 gülcihan gülmez\n",
      "2 derya gülmez\n",
      "3 pelin gülmez\n",
      "4 suna gülmez\n",
      "5 cansu gülmez\n"
     ]
    }
   ],
   "source": [
    "x = 0 \n",
    "for user in list_user :\n",
    "    x = x + 1 \n",
    "    print (x,user)"
   ]
  },
  {
   "cell_type": "code",
   "execution_count": 39,
   "id": "ecb4238b",
   "metadata": {},
   "outputs": [
    {
     "data": {
      "text/plain": [
       "['gülcihan', 'gülmez']"
      ]
     },
     "execution_count": 39,
     "metadata": {},
     "output_type": "execute_result"
    }
   ],
   "source": [
    "list_user[0].split()"
   ]
  },
  {
   "cell_type": "code",
   "execution_count": 40,
   "id": "4d3b89f1",
   "metadata": {},
   "outputs": [
    {
     "name": "stdout",
     "output_type": "stream",
     "text": [
      "gülcihan\n",
      "gülmez\n"
     ]
    }
   ],
   "source": [
    "name = list_user[0].split()[0] \n",
    "surname = list_user[0].split()[1]\n",
    "print (name)\n",
    "print (surname)"
   ]
  },
  {
   "cell_type": "code",
   "execution_count": 41,
   "id": "77652f48",
   "metadata": {},
   "outputs": [
    {
     "name": "stdout",
     "output_type": "stream",
     "text": [
      "1 gülcihan gülmez\n",
      "2 derya gülmez\n",
      "3 pelin gülmez\n",
      "4 suna gülmez\n",
      "5 cansu gülmez\n"
     ]
    }
   ],
   "source": [
    "x = 0 \n",
    "for user in list_user :\n",
    "    x = x + 1 \n",
    "    name , surname = list_user[0].split()[0] , list_user[0].split()[1]\n",
    "    print (x,user)"
   ]
  },
  {
   "cell_type": "code",
   "execution_count": 42,
   "id": "5e57eaad",
   "metadata": {},
   "outputs": [
    {
     "name": "stdout",
     "output_type": "stream",
     "text": [
      "1. user name gülcihan and surname gülmez\n",
      "2. user name derya and surname gülmez\n",
      "3. user name pelin and surname gülmez\n",
      "4. user name suna and surname gülmez\n",
      "5. user name cansu and surname gülmez\n"
     ]
    }
   ],
   "source": [
    "x = 0 \n",
    "for user in list_user :\n",
    "    x = x + 1 \n",
    "    name , surname = user.split()[0] , user.split()[1]\n",
    "    print (\"{0}. user name {1} and surname {2}\".format(x , name , surname))"
   ]
  },
  {
   "cell_type": "code",
   "execution_count": 58,
   "id": "7b24aa14",
   "metadata": {},
   "outputs": [
    {
     "name": "stdout",
     "output_type": "stream",
     "text": [
      "1. user name gülcihan and surname gülmez\n",
      "2. user name derya and surname gülmez\n",
      "3. user name pelin and surname gülmez\n",
      "4. user name suna and surname gülmez\n",
      "1. moderator name cansu and surname gülmez\n"
     ]
    }
   ],
   "source": [
    "moderator = \"cansu gülmez\"\n",
    "x = 0\n",
    "y = 0\n",
    "for user in list_user :\n",
    "    name , surname = user.split()[0] , user.split()[1]\n",
    "\n",
    "    if (user == moderator) :   \n",
    "        y = y + 1\n",
    "        print (\"{0}. moderator name {1} and surname {2}\".format(y,name , surname))\n",
    "    else :\n",
    "        x = x + 1\n",
    "        print (\"{0}. user name {1} and surname {2}\".format(x,name , surname))"
   ]
  }
 ],
 "metadata": {
  "kernelspec": {
   "display_name": "Python 3 (ipykernel)",
   "language": "python",
   "name": "python3"
  },
  "language_info": {
   "codemirror_mode": {
    "name": "ipython",
    "version": 3
   },
   "file_extension": ".py",
   "mimetype": "text/x-python",
   "name": "python",
   "nbconvert_exporter": "python",
   "pygments_lexer": "ipython3",
   "version": "3.9.13"
  }
 },
 "nbformat": 4,
 "nbformat_minor": 5
}
