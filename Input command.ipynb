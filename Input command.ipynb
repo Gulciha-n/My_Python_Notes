{
 "cells": [
  {
   "cell_type": "code",
   "execution_count": 1,
   "id": "5383eee2",
   "metadata": {},
   "outputs": [
    {
     "name": "stdout",
     "output_type": "stream",
     "text": [
      "enter a number :8\n"
     ]
    },
    {
     "data": {
      "text/plain": [
       "'8'"
      ]
     },
     "execution_count": 1,
     "metadata": {},
     "output_type": "execute_result"
    }
   ],
   "source": [
    "input (\"enter a number :\")"
   ]
  },
  {
   "cell_type": "code",
   "execution_count": 2,
   "id": "7977ca20",
   "metadata": {},
   "outputs": [
    {
     "name": "stdout",
     "output_type": "stream",
     "text": [
      "enter a number :9\n",
      "<class 'int'>\n"
     ]
    }
   ],
   "source": [
    "number = input (\"enter a number :\")\n",
    "print(type(int(number)))"
   ]
  },
  {
   "cell_type": "code",
   "execution_count": 3,
   "id": "ecd6a331",
   "metadata": {},
   "outputs": [],
   "source": [
    "def application() :\n",
    "    x = input(\"enter a number :\")\n",
    "    y = input(\"is the number even or odd ?\")\n",
    "    \n",
    "    if y == \"even\":\n",
    "        if int(x)%2==0:\n",
    "            return\"it's a even number.\"\n",
    "        else :\n",
    "            return \"it's not a even number.\"\n",
    "    elif y==\"odd\":\n",
    "        if int(x)%2==1:\n",
    "            return \"it's a odd number.\"\n",
    "        else :\n",
    "            return \"it's not a odd number.\""
   ]
  },
  {
   "cell_type": "code",
   "execution_count": 4,
   "id": "abb7da21",
   "metadata": {},
   "outputs": [
    {
     "name": "stdout",
     "output_type": "stream",
     "text": [
      "enter a number :9\n",
      "is the number even or odd ?odd\n"
     ]
    },
    {
     "data": {
      "text/plain": [
       "\"it's a odd number.\""
      ]
     },
     "execution_count": 4,
     "metadata": {},
     "output_type": "execute_result"
    }
   ],
   "source": [
    "application()"
   ]
  },
  {
   "cell_type": "code",
   "execution_count": 5,
   "id": "31bc7d75",
   "metadata": {},
   "outputs": [
    {
     "name": "stdout",
     "output_type": "stream",
     "text": [
      "enter a number :2\n",
      "is the number even or odd ?odd\n"
     ]
    },
    {
     "data": {
      "text/plain": [
       "\"it's not a odd number.\""
      ]
     },
     "execution_count": 5,
     "metadata": {},
     "output_type": "execute_result"
    }
   ],
   "source": [
    "application()"
   ]
  },
  {
   "cell_type": "markdown",
   "id": "7b5dc1c5",
   "metadata": {},
   "source": [
    "## validation of user input"
   ]
  },
  {
   "cell_type": "code",
   "execution_count": 6,
   "id": "475bd85b",
   "metadata": {},
   "outputs": [],
   "source": [
    "def num_control():\n",
    "    num = input(\"enter a number :\")\n",
    "    \n",
    "    if num.isdigit():\n",
    "        print(\"you entered a number.\")\n",
    "    else :\n",
    "        print (\"you did not entered a number.\")"
   ]
  },
  {
   "cell_type": "code",
   "execution_count": 7,
   "id": "7630b9cf",
   "metadata": {},
   "outputs": [
    {
     "name": "stdout",
     "output_type": "stream",
     "text": [
      "enter a number :5\n",
      "you entered a number.\n"
     ]
    }
   ],
   "source": [
    "num_control()"
   ]
  },
  {
   "cell_type": "code",
   "execution_count": 9,
   "id": "67841fd6",
   "metadata": {},
   "outputs": [
    {
     "name": "stdout",
     "output_type": "stream",
     "text": [
      "enter a number :j\n",
      "you did not entered a number.\n"
     ]
    }
   ],
   "source": [
    "num_control()"
   ]
  },
  {
   "cell_type": "code",
   "execution_count": 10,
   "id": "38687219",
   "metadata": {},
   "outputs": [],
   "source": [
    "def num1_control():\n",
    "    num1 = input(\"enter a number :\")\n",
    "    \n",
    "    while not num1.isdigit():\n",
    "        print (\"it's not a number\")\n",
    "        num1 = input(\"enter a number :\")\n",
    "        print (\"------------------\")    \n",
    "    else :\n",
    "         print(\"you entered a number.\")"
   ]
  },
  {
   "cell_type": "code",
   "execution_count": 12,
   "id": "65e49196",
   "metadata": {},
   "outputs": [
    {
     "name": "stdout",
     "output_type": "stream",
     "text": [
      "enter a number :a\n",
      "it's not a number\n",
      "enter a number :s\n",
      "------------------\n",
      "it's not a number\n",
      "enter a number :d\n",
      "------------------\n",
      "it's not a number\n",
      "enter a number :f\n",
      "------------------\n",
      "it's not a number\n",
      "enter a number :4\n",
      "------------------\n",
      "you entered a number.\n"
     ]
    }
   ],
   "source": [
    "num1_control()"
   ]
  },
  {
   "cell_type": "code",
   "execution_count": null,
   "id": "f17159fe",
   "metadata": {},
   "outputs": [],
   "source": []
  },
  {
   "cell_type": "code",
   "execution_count": 13,
   "id": "8f30e159",
   "metadata": {},
   "outputs": [],
   "source": [
    "def email_control():\n",
    "    email=input(\"enter an email that's valid\\n\")\n",
    "    \n",
    "    while  not ((\"@\" in email) and (\".\" in email)):\n",
    "        \n",
    "        print (\"your email invalid.\")\n",
    "        email=input(\"enter an email that's valid\")\n",
    "        \n",
    "    else:\n",
    "        print (f\"your email is {email} \")"
   ]
  },
  {
   "cell_type": "code",
   "execution_count": 14,
   "id": "d8ce3577",
   "metadata": {},
   "outputs": [
    {
     "name": "stdout",
     "output_type": "stream",
     "text": [
      "enter an email that's valid\n",
      "someone@gmail.com\n",
      "your email is someone@gmail.com \n"
     ]
    }
   ],
   "source": [
    "email_control()"
   ]
  },
  {
   "cell_type": "code",
   "execution_count": 15,
   "id": "6ca4552b",
   "metadata": {},
   "outputs": [
    {
     "name": "stdout",
     "output_type": "stream",
     "text": [
      "enter an email that's valid\n",
      "a\n",
      "your email invalid.\n",
      "enter an email that's validname\n",
      "your email invalid.\n",
      "enter an email that's validsurname\n",
      "your email invalid.\n",
      "enter an email that's valid5\n",
      "your email invalid.\n",
      "enter an email that's validgülcihan@gmail.com\n",
      "your email is gülcihan@gmail.com \n"
     ]
    }
   ],
   "source": [
    "email_control()"
   ]
  },
  {
   "cell_type": "code",
   "execution_count": null,
   "id": "8917324c",
   "metadata": {},
   "outputs": [],
   "source": []
  }
 ],
 "metadata": {
  "kernelspec": {
   "display_name": "Python 3 (ipykernel)",
   "language": "python",
   "name": "python3"
  },
  "language_info": {
   "codemirror_mode": {
    "name": "ipython",
    "version": 3
   },
   "file_extension": ".py",
   "mimetype": "text/x-python",
   "name": "python",
   "nbconvert_exporter": "python",
   "pygments_lexer": "ipython3",
   "version": "3.9.13"
  }
 },
 "nbformat": 4,
 "nbformat_minor": 5
}
