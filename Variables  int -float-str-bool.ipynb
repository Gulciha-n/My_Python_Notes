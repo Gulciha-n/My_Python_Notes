{
 "cells": [
  {
   "cell_type": "markdown",
   "id": "06b7d1d0",
   "metadata": {},
   "source": [
    "# Variables (int - float - str - bool )"
   ]
  },
  {
   "cell_type": "code",
   "execution_count": null,
   "id": "d3eaf277",
   "metadata": {},
   "outputs": [],
   "source": [
    "# Integer       int      3,5,7\n",
    "\n",
    "# Float         float    1.2 , 7.0 \n",
    "\n",
    "# String        str      \"hello\" , \"20\" , 'a'\n",
    "\n",
    "# Bollean       bool     True , False \n",
    "\n",
    "# List          list     [1 , 2 , True , \"hello\" , 1 ]\n",
    "\n",
    "# set           set      {1 , 2 , True , \"hello\"}\n",
    "\n",
    "# Dictionary    dict     {name = \"A\" , age = \"20\"}   KEY-VALUE \n",
    "\n",
    "# Tuple         tup      {1 , 2 , True}       (TYPE OF IMMUTABLE LİSTS)"
   ]
  },
  {
   "cell_type": "markdown",
   "id": "3ce3dddb",
   "metadata": {},
   "source": [
    "# Integer and Float "
   ]
  },
  {
   "cell_type": "code",
   "execution_count": 2,
   "id": "383698b8",
   "metadata": {},
   "outputs": [
    {
     "name": "stdout",
     "output_type": "stream",
     "text": [
      "13\n"
     ]
    }
   ],
   "source": [
    "print (4+9)"
   ]
  },
  {
   "cell_type": "code",
   "execution_count": 5,
   "id": "7ebb7361",
   "metadata": {},
   "outputs": [
    {
     "name": "stdout",
     "output_type": "stream",
     "text": [
      "36\n"
     ]
    }
   ],
   "source": [
    "print (4*9)"
   ]
  },
  {
   "cell_type": "code",
   "execution_count": 6,
   "id": "11ce2d9f",
   "metadata": {},
   "outputs": [
    {
     "name": "stdout",
     "output_type": "stream",
     "text": [
      "10.0\n"
     ]
    }
   ],
   "source": [
    "print (2.5 * 4)"
   ]
  },
  {
   "cell_type": "code",
   "execution_count": 7,
   "id": "080702b0",
   "metadata": {},
   "outputs": [
    {
     "name": "stdout",
     "output_type": "stream",
     "text": [
      "2\n"
     ]
    }
   ],
   "source": [
    "print (6 % 4)"
   ]
  },
  {
   "cell_type": "code",
   "execution_count": 8,
   "id": "6951c866",
   "metadata": {},
   "outputs": [
    {
     "data": {
      "text/plain": [
       "float"
      ]
     },
     "execution_count": 8,
     "metadata": {},
     "output_type": "execute_result"
    }
   ],
   "source": [
    "type (5.6)"
   ]
  },
  {
   "cell_type": "code",
   "execution_count": 9,
   "id": "55446109",
   "metadata": {},
   "outputs": [
    {
     "data": {
      "text/plain": [
       "int"
      ]
     },
     "execution_count": 9,
     "metadata": {},
     "output_type": "execute_result"
    }
   ],
   "source": [
    "type (5)"
   ]
  },
  {
   "cell_type": "markdown",
   "id": "d4f8064c",
   "metadata": {},
   "source": [
    "# String  =  \" \"   ,  ' ' "
   ]
  },
  {
   "cell_type": "code",
   "execution_count": 25,
   "id": "d86671b1",
   "metadata": {},
   "outputs": [
    {
     "name": "stdout",
     "output_type": "stream",
     "text": [
      "Pyhton\n",
      "P\n",
      "y\n",
      "h\n",
      "t\n",
      "o\n",
      "n\n"
     ]
    }
   ],
   "source": [
    "strvar = \"Pyhton\"\n",
    "print (strvar)\n",
    "print (strvar [0])\n",
    "print (strvar [1])\n",
    "print (strvar [2])\n",
    "print (strvar [3])\n",
    "print (strvar [4])\n",
    "print (strvar [5])"
   ]
  },
  {
   "cell_type": "code",
   "execution_count": 26,
   "id": "3b6b8b7a",
   "metadata": {},
   "outputs": [
    {
     "name": "stdout",
     "output_type": "stream",
     "text": [
      "Pyhton\n"
     ]
    }
   ],
   "source": [
    "print (strvar[:])"
   ]
  },
  {
   "cell_type": "code",
   "execution_count": 27,
   "id": "ad55e3c3",
   "metadata": {},
   "outputs": [
    {
     "name": "stdout",
     "output_type": "stream",
     "text": [
      "yhton\n"
     ]
    }
   ],
   "source": [
    "print (strvar [1:])"
   ]
  },
  {
   "cell_type": "code",
   "execution_count": 28,
   "id": "8505bc00",
   "metadata": {},
   "outputs": [
    {
     "name": "stdout",
     "output_type": "stream",
     "text": [
      "hton\n"
     ]
    }
   ],
   "source": [
    "print (strvar [2:])"
   ]
  },
  {
   "cell_type": "code",
   "execution_count": 29,
   "id": "1c4e53a4",
   "metadata": {},
   "outputs": [
    {
     "name": "stdout",
     "output_type": "stream",
     "text": [
      "yht\n"
     ]
    }
   ],
   "source": [
    "print (strvar [1:4])           ## 1 inclusive , 4 exclusive"
   ]
  },
  {
   "cell_type": "code",
   "execution_count": 30,
   "id": "545384db",
   "metadata": {},
   "outputs": [
    {
     "name": "stdout",
     "output_type": "stream",
     "text": [
      "Pho\n"
     ]
    }
   ],
   "source": [
    "print (strvar [::2])           ## [::2]  skip "
   ]
  },
  {
   "cell_type": "code",
   "execution_count": 33,
   "id": "abde2e7f",
   "metadata": {},
   "outputs": [
    {
     "name": "stdout",
     "output_type": "stream",
     "text": [
      "Pyh\n"
     ]
    }
   ],
   "source": [
    "print (strvar [0:3:1])"
   ]
  },
  {
   "cell_type": "code",
   "execution_count": 35,
   "id": "370dddbf",
   "metadata": {},
   "outputs": [
    {
     "name": "stdout",
     "output_type": "stream",
     "text": [
      "Pho\n"
     ]
    }
   ],
   "source": [
    "print (strvar [0:5:2])"
   ]
  },
  {
   "cell_type": "code",
   "execution_count": 36,
   "id": "9abf8900",
   "metadata": {},
   "outputs": [
    {
     "name": "stdout",
     "output_type": "stream",
     "text": [
      "Pt\n"
     ]
    }
   ],
   "source": [
    "print (strvar [0:5:3])"
   ]
  },
  {
   "cell_type": "code",
   "execution_count": 37,
   "id": "09b3bb5d",
   "metadata": {},
   "outputs": [
    {
     "data": {
      "text/plain": [
       "6"
      ]
     },
     "execution_count": 37,
     "metadata": {},
     "output_type": "execute_result"
    }
   ],
   "source": [
    "len (strvar)"
   ]
  },
  {
   "cell_type": "code",
   "execution_count": 39,
   "id": "899e6533",
   "metadata": {},
   "outputs": [
    {
     "data": {
      "text/plain": [
       "'Pyhton programming'"
      ]
     },
     "execution_count": 39,
     "metadata": {},
     "output_type": "execute_result"
    }
   ],
   "source": [
    "strvar + \" programming\""
   ]
  },
  {
   "cell_type": "code",
   "execution_count": 40,
   "id": "787a7384",
   "metadata": {},
   "outputs": [
    {
     "name": "stdout",
     "output_type": "stream",
     "text": [
      "Pyhton programming\n"
     ]
    }
   ],
   "source": [
    "strvar = strvar + \" programming\"\n",
    "print (strvar)"
   ]
  },
  {
   "cell_type": "markdown",
   "id": "81d39e89",
   "metadata": {},
   "source": [
    "# "
   ]
  },
  {
   "cell_type": "code",
   "execution_count": 68,
   "id": "f12f285b",
   "metadata": {},
   "outputs": [
    {
     "name": "stdout",
     "output_type": "stream",
     "text": [
      "learn Python\n"
     ]
    }
   ],
   "source": [
    "strvar2 = \"learn Python\"\n",
    "print (strvar2)"
   ]
  },
  {
   "cell_type": "code",
   "execution_count": 69,
   "id": "2cb136ef",
   "metadata": {},
   "outputs": [
    {
     "name": "stdout",
     "output_type": "stream",
     "text": [
      "Learn python\n"
     ]
    }
   ],
   "source": [
    "print (strvar2.capitalize())"
   ]
  },
  {
   "cell_type": "code",
   "execution_count": 70,
   "id": "39bd24df",
   "metadata": {},
   "outputs": [
    {
     "name": "stdout",
     "output_type": "stream",
     "text": [
      "LEARN PYTHON\n"
     ]
    }
   ],
   "source": [
    "print (strvar2.upper())"
   ]
  },
  {
   "cell_type": "code",
   "execution_count": 71,
   "id": "3b881682",
   "metadata": {},
   "outputs": [
    {
     "name": "stdout",
     "output_type": "stream",
     "text": [
      "learn python\n"
     ]
    }
   ],
   "source": [
    "print (strvar2.lower())"
   ]
  },
  {
   "cell_type": "code",
   "execution_count": 86,
   "id": "959366e3",
   "metadata": {},
   "outputs": [
    {
     "name": "stdout",
     "output_type": "stream",
     "text": [
      "['learn', 'Python']\n",
      "['lear', ' Pytho', '']\n",
      "['lear', ' Pytho', '']\n",
      "['lear', ' Python']\n",
      "['lear', ' Pytho', '']\n"
     ]
    }
   ],
   "source": [
    "print (strvar2.split())\n",
    "print (strvar2.split(\"n\"))\n",
    "print (strvar2.split(sep = \"n\"))\n",
    "print (strvar2.split(sep = \"n\" , maxsplit =1))\n",
    "print (strvar2.split(sep = \"n\" , maxsplit=2))"
   ]
  },
  {
   "cell_type": "code",
   "execution_count": 87,
   "id": "996c6715",
   "metadata": {},
   "outputs": [
    {
     "name": "stdout",
     "output_type": "stream",
     "text": [
      "1\n"
     ]
    }
   ],
   "source": [
    "print (strvar2.count(\"y\"))"
   ]
  },
  {
   "cell_type": "code",
   "execution_count": 88,
   "id": "808dc9c8",
   "metadata": {},
   "outputs": [],
   "source": [
    "##  **** shift + tab = teachs how to use parameters ****"
   ]
  },
  {
   "cell_type": "markdown",
   "id": "51c9348e",
   "metadata": {},
   "source": [
    "# Boolean  = True & False "
   ]
  },
  {
   "cell_type": "code",
   "execution_count": 91,
   "id": "59c1727b",
   "metadata": {},
   "outputs": [
    {
     "name": "stdout",
     "output_type": "stream",
     "text": [
      "True\n",
      "False\n"
     ]
    }
   ],
   "source": [
    "a = True \n",
    "b = False \n",
    "print (a)\n",
    "print (b)"
   ]
  },
  {
   "cell_type": "code",
   "execution_count": 98,
   "id": "f1312ade",
   "metadata": {},
   "outputs": [
    {
     "name": "stdout",
     "output_type": "stream",
     "text": [
      "False\n",
      "True\n"
     ]
    }
   ],
   "source": [
    "age = 20 \n",
    "print (age > 23)\n",
    "print (age > 18)"
   ]
  },
  {
   "cell_type": "code",
   "execution_count": 99,
   "id": "c0219116",
   "metadata": {},
   "outputs": [
    {
     "name": "stdout",
     "output_type": "stream",
     "text": [
      "You can enter this page\n"
     ]
    }
   ],
   "source": [
    "age = 20\n",
    "if (age > 18):\n",
    "    print (\"You can enter this page\")   "
   ]
  },
  {
   "cell_type": "code",
   "execution_count": 100,
   "id": "4584ab7b",
   "metadata": {},
   "outputs": [],
   "source": [
    "##  ==  is it equal ?"
   ]
  },
  {
   "cell_type": "code",
   "execution_count": 102,
   "id": "d5dd4ee6",
   "metadata": {},
   "outputs": [
    {
     "data": {
      "text/plain": [
       "True"
      ]
     },
     "execution_count": 102,
     "metadata": {},
     "output_type": "execute_result"
    }
   ],
   "source": [
    "age == 20"
   ]
  },
  {
   "cell_type": "code",
   "execution_count": 103,
   "id": "166a8a21",
   "metadata": {},
   "outputs": [
    {
     "data": {
      "text/plain": [
       "False"
      ]
     },
     "execution_count": 103,
     "metadata": {},
     "output_type": "execute_result"
    }
   ],
   "source": [
    "age == 25"
   ]
  },
  {
   "cell_type": "code",
   "execution_count": 107,
   "id": "aa5a622a",
   "metadata": {},
   "outputs": [],
   "source": [
    "##   !=   isn't it equal?  (isn't equal)"
   ]
  },
  {
   "cell_type": "code",
   "execution_count": 108,
   "id": "eb8efd9e",
   "metadata": {},
   "outputs": [
    {
     "data": {
      "text/plain": [
       "False"
      ]
     },
     "execution_count": 108,
     "metadata": {},
     "output_type": "execute_result"
    }
   ],
   "source": [
    "age != 20"
   ]
  },
  {
   "cell_type": "code",
   "execution_count": 109,
   "id": "1ffdabd8",
   "metadata": {},
   "outputs": [
    {
     "data": {
      "text/plain": [
       "True"
      ]
     },
     "execution_count": 109,
     "metadata": {},
     "output_type": "execute_result"
    }
   ],
   "source": [
    "age != 25"
   ]
  },
  {
   "cell_type": "code",
   "execution_count": 114,
   "id": "5b2243c8",
   "metadata": {},
   "outputs": [],
   "source": [
    "##   not = !     *** use \"not\" for \">\" and \"<\" assignment operators"
   ]
  },
  {
   "cell_type": "code",
   "execution_count": 115,
   "id": "5a094026",
   "metadata": {},
   "outputs": [
    {
     "data": {
      "text/plain": [
       "True"
      ]
     },
     "execution_count": 115,
     "metadata": {},
     "output_type": "execute_result"
    }
   ],
   "source": [
    "not age > 20"
   ]
  },
  {
   "cell_type": "code",
   "execution_count": 116,
   "id": "f62f4e0b",
   "metadata": {},
   "outputs": [
    {
     "data": {
      "text/plain": [
       "True"
      ]
     },
     "execution_count": 116,
     "metadata": {},
     "output_type": "execute_result"
    }
   ],
   "source": [
    "not age > 30"
   ]
  }
 ],
 "metadata": {
  "kernelspec": {
   "display_name": "Python 3 (ipykernel)",
   "language": "python",
   "name": "python3"
  },
  "language_info": {
   "codemirror_mode": {
    "name": "ipython",
    "version": 3
   },
   "file_extension": ".py",
   "mimetype": "text/x-python",
   "name": "python",
   "nbconvert_exporter": "python",
   "pygments_lexer": "ipython3",
   "version": "3.9.13"
  }
 },
 "nbformat": 4,
 "nbformat_minor": 5
}
